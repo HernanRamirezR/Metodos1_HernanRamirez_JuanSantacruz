{
 "cells": [
  {
   "cell_type": "code",
   "execution_count": 10,
   "id": "4eb3a6ca",
   "metadata": {},
   "outputs": [],
   "source": [
    "import numpy as np"
   ]
  },
  {
   "cell_type": "code",
   "execution_count": 11,
   "id": "38017fc0",
   "metadata": {},
   "outputs": [],
   "source": [
    "Sx = np.array([[0, 1], [1,0]])\n",
    "Sy = np.array([[0, -1j], [1j,0]])\n",
    "Sz = np.array([[1, 0], [0,-1]])\n",
    "\n",
    "S = (Sx,Sy,Sz)                 "
   ]
  },
  {
   "cell_type": "code",
   "execution_count": 12,
   "id": "2919fcac",
   "metadata": {},
   "outputs": [],
   "source": [
    "def conmutador(i,j):\n",
    "    A = S[i-1]\n",
    "    B = S[j-1]\n",
    "    return A@B-B@A\n",
    "\n",
    "def TensorLeviChivita(permutacion):\n",
    "    e = 0\n",
    "    if (permutacion == [1,2,3]) or (permutacion == [2,3,1]) or (permutacion == [3,1,2]):\n",
    "        e = 1\n",
    "    elif (permutacion == [3,2,1]) or (permutacion == [1,3,2]) or (permutacion == [2,1,3]):\n",
    "        e = -1\n",
    "    return e\n",
    "\n",
    "def AlgebraLie(A,B):\n",
    "    indices = [1,2,3]\n",
    "    \n",
    "    if A != B:\n",
    "        indices.remove(A)\n",
    "        indices.remove(B)\n",
    "        \n",
    "    e = TensorLeviChivita([A,B,indices[0]])\n",
    "    \n",
    "    return 2*1j*e*S[indices[-1]-1]"
   ]
  },
  {
   "cell_type": "code",
   "execution_count": 13,
   "id": "080975c0",
   "metadata": {},
   "outputs": [
    {
     "name": "stdout",
     "output_type": "stream",
     "text": [
      "[[ 0.+2.j  0.+0.j]\n",
      " [ 0.+0.j -0.-2.j]]\n",
      "[[0.+2.j 0.+0.j]\n",
      " [0.+0.j 0.-2.j]]\n"
     ]
    }
   ],
   "source": [
    "A = AlgebraLie(1,2)\n",
    "print(A)\n",
    "B = conmutador(1,2)\n",
    "print(B)"
   ]
  },
  {
   "cell_type": "code",
   "execution_count": 14,
   "id": "d9ae0f4f",
   "metadata": {},
   "outputs": [
    {
     "name": "stdout",
     "output_type": "stream",
     "text": [
      "[[0.-2.j 0.-0.j]\n",
      " [0.-0.j 0.+2.j]]\n",
      "[[0.-2.j 0.+0.j]\n",
      " [0.+0.j 0.+2.j]]\n"
     ]
    }
   ],
   "source": [
    "A = AlgebraLie(2,1)\n",
    "print(A)\n",
    "B = conmutador(2,1)\n",
    "print(B)"
   ]
  },
  {
   "cell_type": "code",
   "execution_count": 15,
   "id": "b8c75ac9",
   "metadata": {},
   "outputs": [
    {
     "name": "stdout",
     "output_type": "stream",
     "text": [
      "[[ 0.+0.j  0.+0.j]\n",
      " [ 0.+0.j -0.+0.j]]\n",
      "[[0 0]\n",
      " [0 0]]\n"
     ]
    }
   ],
   "source": [
    "A = AlgebraLie(1,1)\n",
    "print(A)\n",
    "B =conmutador(1,1)\n",
    "print(B)"
   ]
  },
  {
   "cell_type": "code",
   "execution_count": 16,
   "id": "845ac7fa",
   "metadata": {},
   "outputs": [
    {
     "name": "stdout",
     "output_type": "stream",
     "text": [
      "[[ 0.+0.j  2.-0.j]\n",
      " [-2.+0.j  0.+0.j]]\n",
      "[[ 0  2]\n",
      " [-2  0]]\n"
     ]
    }
   ],
   "source": [
    "A = AlgebraLie(3,1)\n",
    "print(A)\n",
    "B = conmutador(3,1)\n",
    "print(B)"
   ]
  },
  {
   "cell_type": "markdown",
   "id": "6fdfa9c0",
   "metadata": {},
   "source": [
    "Para todos los ejemplos anteriores se puede ver que aplicar la definicion directa del conmutador es igual a utilizar el metodo del algebre de Lie."
   ]
  }
 ],
 "metadata": {
  "kernelspec": {
   "display_name": "Python 3 (ipykernel)",
   "language": "python",
   "name": "python3"
  },
  "language_info": {
   "codemirror_mode": {
    "name": "ipython",
    "version": 3
   },
   "file_extension": ".py",
   "mimetype": "text/x-python",
   "name": "python",
   "nbconvert_exporter": "python",
   "pygments_lexer": "ipython3",
   "version": "3.10.6"
  }
 },
 "nbformat": 4,
 "nbformat_minor": 5
}
