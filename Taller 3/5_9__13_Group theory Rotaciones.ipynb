{
 "cells": [
  {
   "cell_type": "code",
   "execution_count": 1,
   "id": "fc600ab2",
   "metadata": {},
   "outputs": [],
   "source": [
    "import numpy as np"
   ]
  },
  {
   "cell_type": "code",
   "execution_count": 2,
   "id": "f02f95fc",
   "metadata": {},
   "outputs": [],
   "source": [
    "Jx = np.array([[0, 0, 0], [0, 0,-1], [0, 1,0]])\n",
    "Jy = np.array([[0, 0, 1], [0, 0,0], [-1, 0,0]])\n",
    "Jz = np.array([[0, -1, 0], [1, 0,0], [0, 0,0]])\n",
    "\n",
    "J = (Jx,Jy,Jz)"
   ]
  },
  {
   "cell_type": "code",
   "execution_count": 9,
   "id": "e0d0302a",
   "metadata": {},
   "outputs": [
    {
     "data": {
      "text/plain": [
       "array([[ 0,  0,  0],\n",
       "       [ 0,  0, -1],\n",
       "       [ 0,  1,  0]])"
      ]
     },
     "execution_count": 9,
     "metadata": {},
     "output_type": "execute_result"
    }
   ],
   "source": [
    "Jx"
   ]
  },
  {
   "cell_type": "code",
   "execution_count": 4,
   "id": "2c04487f",
   "metadata": {},
   "outputs": [
    {
     "data": {
      "text/plain": [
       "array([[ 0,  0,  1],\n",
       "       [ 0,  0,  0],\n",
       "       [-1,  0,  0]])"
      ]
     },
     "execution_count": 4,
     "metadata": {},
     "output_type": "execute_result"
    }
   ],
   "source": [
    "Jy"
   ]
  },
  {
   "cell_type": "code",
   "execution_count": 5,
   "id": "ed9ceb92",
   "metadata": {},
   "outputs": [
    {
     "data": {
      "text/plain": [
       "array([[ 0, -1,  0],\n",
       "       [ 1,  0,  0],\n",
       "       [ 0,  0,  0]])"
      ]
     },
     "execution_count": 5,
     "metadata": {},
     "output_type": "execute_result"
    }
   ],
   "source": [
    "Jz"
   ]
  },
  {
   "cell_type": "code",
   "execution_count": 22,
   "id": "c5989c5d",
   "metadata": {},
   "outputs": [],
   "source": [
    "def conmutador(i,j):\n",
    "    A = J[i-1]\n",
    "    B = J[j-1]\n",
    "    return A@B-B@A\n",
    "\n",
    "def TensorLeviChivita(permutacion):\n",
    "    e = 0\n",
    "    if (permutacion == [1,2,3]) or (permutacion == [2,3,1]) or (permutacion == [3,1,2]):\n",
    "        e = 1\n",
    "    elif (permutacion == [3,2,1]) or (permutacion == [1,3,2]) or (permutacion == [2,1,3]):\n",
    "        e = -1\n",
    "    return e\n",
    "\n",
    "def AlgebraLie(A,B):\n",
    "    indices = [1,2,3]\n",
    "    \n",
    "    if A != B:\n",
    "        indices.remove(A)\n",
    "        indices.remove(B)\n",
    "        \n",
    "    e = TensorLeviChivita([A,B,indices[0]])\n",
    "    \n",
    "    return e*J[indices[-1]-1]\n",
    "     "
   ]
  },
  {
   "cell_type": "markdown",
   "id": "8d0ee5e7",
   "metadata": {},
   "source": [
    "Permutacion par:\n",
    "\n",
    "De acuerdo con la teoria, al calcular un conmutador de dos operadores (matrices) el resultado de estos puede ser expresado mediante el algebra de Lie de la siguiente forma:\n",
    "\n",
    "\n",
    "[$J_i, J_j$] = $\\epsilon_{ijk} J_k$, con  i, j, k = x, y, z\n",
    "\n",
    "al realizar una permutacion par, es decir de la forma (x,y,z), (y,z,x),(z,x,y), el tensor de Levi-Civita es 1. <br>\n",
    "al realizar una permutacion impar, es decir de la forma (z,y,x), (x,z,y),(y,x,z), el tensor de Levi-Civita es -1. <br>\n",
    "o 0 si i = j, j = k o k=1 <br>\n",
    "\n",
    "Lo anterior se prueba a continuacion"
   ]
  },
  {
   "cell_type": "code",
   "execution_count": 23,
   "id": "2d822a00",
   "metadata": {},
   "outputs": [
    {
     "name": "stdout",
     "output_type": "stream",
     "text": [
      "[[ 0 -1  0]\n",
      " [ 1  0  0]\n",
      " [ 0  0  0]]\n",
      "[[ 0 -1  0]\n",
      " [ 1  0  0]\n",
      " [ 0  0  0]]\n"
     ]
    }
   ],
   "source": [
    "A = AlgebraLie(1,2)\n",
    "print(A)\n",
    "B = conmutador(1,2)\n",
    "print(B)"
   ]
  },
  {
   "cell_type": "code",
   "execution_count": 27,
   "id": "401d245d",
   "metadata": {},
   "outputs": [
    {
     "name": "stdout",
     "output_type": "stream",
     "text": [
      "[[ 0  1  0]\n",
      " [-1  0  0]\n",
      " [ 0  0  0]]\n",
      "[[ 0  1  0]\n",
      " [-1  0  0]\n",
      " [ 0  0  0]]\n"
     ]
    }
   ],
   "source": [
    "A = AlgebraLie(2,1)\n",
    "print(A)\n",
    "B = conmutador(2,1)\n",
    "print(B)"
   ]
  },
  {
   "cell_type": "code",
   "execution_count": 28,
   "id": "bebcf02c",
   "metadata": {},
   "outputs": [
    {
     "name": "stdout",
     "output_type": "stream",
     "text": [
      "[[0 0 0]\n",
      " [0 0 0]\n",
      " [0 0 0]]\n",
      "[[0 0 0]\n",
      " [0 0 0]\n",
      " [0 0 0]]\n"
     ]
    }
   ],
   "source": [
    "A = AlgebraLie(1,1)\n",
    "print(A)\n",
    "B =conmutador(1,1)\n",
    "print(B)"
   ]
  },
  {
   "cell_type": "code",
   "execution_count": 29,
   "id": "9e0d2135",
   "metadata": {},
   "outputs": [
    {
     "name": "stdout",
     "output_type": "stream",
     "text": [
      "[[ 0  0  1]\n",
      " [ 0  0  0]\n",
      " [-1  0  0]]\n",
      "[[ 0  0  1]\n",
      " [ 0  0  0]\n",
      " [-1  0  0]]\n"
     ]
    }
   ],
   "source": [
    "A = AlgebraLie(3,1)\n",
    "print(A)\n",
    "B = conmutador(3,1)\n",
    "print(B)"
   ]
  },
  {
   "cell_type": "markdown",
   "id": "86ed9001",
   "metadata": {},
   "source": [
    "Para todos los ejemplos anteriores se puede ver que aplicar la definicion directa del conmutador es igual a utilizar el metodo del algebre de Lie. Una observacion adicional es que [A,B] = -[B,A]\n"
   ]
  }
 ],
 "metadata": {
  "kernelspec": {
   "display_name": "Python 3 (ipykernel)",
   "language": "python",
   "name": "python3"
  },
  "language_info": {
   "codemirror_mode": {
    "name": "ipython",
    "version": 3
   },
   "file_extension": ".py",
   "mimetype": "text/x-python",
   "name": "python",
   "nbconvert_exporter": "python",
   "pygments_lexer": "ipython3",
   "version": "3.10.6"
  }
 },
 "nbformat": 4,
 "nbformat_minor": 5
}
