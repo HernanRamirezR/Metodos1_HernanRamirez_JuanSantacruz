{
 "cells": [
  {
   "cell_type": "code",
   "execution_count": 1,
   "id": "1daac91d",
   "metadata": {},
   "outputs": [],
   "source": [
    "import numpy as np"
   ]
  },
  {
   "cell_type": "code",
   "execution_count": 2,
   "id": "2889747f",
   "metadata": {},
   "outputs": [],
   "source": [
    "D0 = np.diag([1, 1, -1, -1])\n",
    "D1 = np.fliplr(D0)\n",
    "D2 = np.fliplr(np.diag([-1j, 1j, 1j, -1j]))\n",
    "D3 = np.array([[0,0,1,0],[0,0,0,-1],[-1,0,0,0],[0,1,0,0]])\n",
    "\n",
    "D = np.array([D0,D1,D2,D3])\n",
    "\n",
    "n = np.diag([1, -1, -1, -1])"
   ]
  },
  {
   "cell_type": "code",
   "execution_count": 3,
   "id": "4b36e777",
   "metadata": {},
   "outputs": [],
   "source": [
    "def Anticonmutador(i,j):\n",
    "    A = D[i]\n",
    "    B = D[j]\n",
    "    return A@B+B@A\n",
    "\n",
    "def AlgebraCliff(i,j):\n",
    "    return 2*n[i][j]*np.identity(4)"
   ]
  },
  {
   "cell_type": "code",
   "execution_count": 4,
   "id": "d46d3e4b",
   "metadata": {},
   "outputs": [
    {
     "name": "stdout",
     "output_type": "stream",
     "text": [
      "[[0. 0. 0. 0.]\n",
      " [0. 0. 0. 0.]\n",
      " [0. 0. 0. 0.]\n",
      " [0. 0. 0. 0.]]\n",
      "[[0.+0.j 0.+0.j 0.+0.j 0.+0.j]\n",
      " [0.+0.j 0.+0.j 0.+0.j 0.+0.j]\n",
      " [0.+0.j 0.+0.j 0.+0.j 0.+0.j]\n",
      " [0.+0.j 0.+0.j 0.+0.j 0.+0.j]]\n"
     ]
    }
   ],
   "source": [
    "A = AlgebraCliff(1,2)\n",
    "print(A)\n",
    "B = Anticonmutador(1,2)\n",
    "print(B)"
   ]
  },
  {
   "cell_type": "code",
   "execution_count": 5,
   "id": "4da9d2df",
   "metadata": {},
   "outputs": [
    {
     "name": "stdout",
     "output_type": "stream",
     "text": [
      "[[2. 0. 0. 0.]\n",
      " [0. 2. 0. 0.]\n",
      " [0. 0. 2. 0.]\n",
      " [0. 0. 0. 2.]]\n",
      "[[2.+0.j 0.+0.j 0.+0.j 0.+0.j]\n",
      " [0.+0.j 2.+0.j 0.+0.j 0.+0.j]\n",
      " [0.+0.j 0.+0.j 2.+0.j 0.+0.j]\n",
      " [0.+0.j 0.+0.j 0.+0.j 2.+0.j]]\n"
     ]
    }
   ],
   "source": [
    "A = AlgebraCliff(0,0)\n",
    "print(A)\n",
    "B = Anticonmutador(0,0)\n",
    "print(B)"
   ]
  },
  {
   "cell_type": "code",
   "execution_count": 6,
   "id": "5280638b",
   "metadata": {},
   "outputs": [
    {
     "name": "stdout",
     "output_type": "stream",
     "text": [
      "[[-2. -0. -0. -0.]\n",
      " [-0. -2. -0. -0.]\n",
      " [-0. -0. -2. -0.]\n",
      " [-0. -0. -0. -2.]]\n",
      "[[-2.+0.j  0.+0.j  0.+0.j  0.+0.j]\n",
      " [ 0.+0.j -2.+0.j  0.+0.j  0.+0.j]\n",
      " [ 0.+0.j  0.+0.j -2.+0.j  0.+0.j]\n",
      " [ 0.+0.j  0.+0.j  0.+0.j -2.+0.j]]\n"
     ]
    }
   ],
   "source": [
    "A = AlgebraCliff(1,1)\n",
    "print(A)\n",
    "B = Anticonmutador(1,1)\n",
    "print(B)"
   ]
  },
  {
   "cell_type": "code",
   "execution_count": 7,
   "id": "022a8658",
   "metadata": {},
   "outputs": [
    {
     "name": "stdout",
     "output_type": "stream",
     "text": [
      "[[-2. -0. -0. -0.]\n",
      " [-0. -2. -0. -0.]\n",
      " [-0. -0. -2. -0.]\n",
      " [-0. -0. -0. -2.]]\n",
      "[[-2.+0.j  0.+0.j  0.+0.j  0.+0.j]\n",
      " [ 0.+0.j -2.+0.j  0.+0.j  0.+0.j]\n",
      " [ 0.+0.j  0.+0.j -2.+0.j  0.+0.j]\n",
      " [ 0.+0.j  0.+0.j  0.+0.j -2.+0.j]]\n"
     ]
    }
   ],
   "source": [
    "A = AlgebraCliff(2,2)\n",
    "print(A)\n",
    "B = Anticonmutador(2,2)\n",
    "print(B)"
   ]
  },
  {
   "cell_type": "code",
   "execution_count": 8,
   "id": "30a70650",
   "metadata": {},
   "outputs": [
    {
     "name": "stdout",
     "output_type": "stream",
     "text": [
      "[[-2. -0. -0. -0.]\n",
      " [-0. -2. -0. -0.]\n",
      " [-0. -0. -2. -0.]\n",
      " [-0. -0. -0. -2.]]\n",
      "[[-2.+0.j  0.+0.j  0.+0.j  0.+0.j]\n",
      " [ 0.+0.j -2.+0.j  0.+0.j  0.+0.j]\n",
      " [ 0.+0.j  0.+0.j -2.+0.j  0.+0.j]\n",
      " [ 0.+0.j  0.+0.j  0.+0.j -2.+0.j]]\n"
     ]
    }
   ],
   "source": [
    "A = AlgebraCliff(3,3)\n",
    "print(A)\n",
    "B = Anticonmutador(3,3)\n",
    "print(B)"
   ]
  },
  {
   "cell_type": "markdown",
   "id": "a6dda77f",
   "metadata": {},
   "source": [
    "Para todos los ejemplos anteriores se puede ver que aplicar la definicion directa del anticonmutador es igual a utilizar el metodo del algebra de Clifford. Ademas, se puede ver que el anticonmutador es igual a 0 siempre que $$\\mu \\neq \\nu$$ . \n"
   ]
  }
 ],
 "metadata": {
  "kernelspec": {
   "display_name": "Python 3 (ipykernel)",
   "language": "python",
   "name": "python3"
  },
  "language_info": {
   "codemirror_mode": {
    "name": "ipython",
    "version": 3
   },
   "file_extension": ".py",
   "mimetype": "text/x-python",
   "name": "python",
   "nbconvert_exporter": "python",
   "pygments_lexer": "ipython3",
   "version": "3.10.6"
  }
 },
 "nbformat": 4,
 "nbformat_minor": 5
}
