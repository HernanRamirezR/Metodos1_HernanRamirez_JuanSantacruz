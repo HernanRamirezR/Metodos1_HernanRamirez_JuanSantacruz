{
  "nbformat": 4,
  "nbformat_minor": 0,
  "metadata": {
    "colab": {
      "provenance": []
    },
    "kernelspec": {
      "name": "python3",
      "display_name": "Python 3"
    },
    "language_info": {
      "name": "python"
    }
  },
  "cells": [
    {
      "cell_type": "code",
      "execution_count": null,
      "metadata": {
        "id": "zRp1uLNeZTBn"
      },
      "outputs": [],
      "source": [
        "import numpy as np"
      ]
    },
    {
      "cell_type": "code",
      "source": [
        "def matrix_multiplication(A,B):\n",
        "  N_1 = len(A)\n",
        "  M_1 = len(A[0])\n",
        "  M_2 = len(B[0])\n",
        "  C = np.zeros((N_1,M_2))\n",
        "  for i in range (N_1):\n",
        "    for j in range(M_2):\n",
        "      contador = 0\n",
        "      for k in range(M_1):\n",
        "        contador += A[i][k]*B[k][j]\n",
        "      C[i][j] = contador\n",
        "\n",
        "\n",
        "  return C"
      ],
      "metadata": {
        "id": "nQ9t8M8MZUxL"
      },
      "execution_count": null,
      "outputs": []
    },
    {
      "cell_type": "code",
      "source": [
        "A = np.array([[1,0,0],[5,1,0],[-2,3,1]])\n",
        "B = np.array([[4,2,-1],[0,3,7],[0,0,2]])\n",
        "print(A)\n",
        "print(B)"
      ],
      "metadata": {
        "colab": {
          "base_uri": "https://localhost:8080/"
        },
        "id": "0pBIp9DQZm6L",
        "outputId": "7ffd18e7-595f-435c-cb00-40676e3445d7"
      },
      "execution_count": null,
      "outputs": [
        {
          "output_type": "stream",
          "name": "stdout",
          "text": [
            "[[ 1  0  0]\n",
            " [ 5  1  0]\n",
            " [-2  3  1]]\n",
            "[[ 4  2 -1]\n",
            " [ 0  3  7]\n",
            " [ 0  0  2]]\n"
          ]
        }
      ]
    },
    {
      "cell_type": "code",
      "source": [
        "matrix_multiplication(A,B)"
      ],
      "metadata": {
        "colab": {
          "base_uri": "https://localhost:8080/"
        },
        "id": "KUKSyGTzbo6t",
        "outputId": "fdda2ca8-9c5f-46b1-b693-a526d5645c02"
      },
      "execution_count": null,
      "outputs": [
        {
          "output_type": "execute_result",
          "data": {
            "text/plain": [
              "array([[ 4.,  2., -1.],\n",
              "       [20., 13.,  2.],\n",
              "       [-8.,  5., 25.]])"
            ]
          },
          "metadata": {},
          "execution_count": 5
        }
      ]
    }
  ]
}