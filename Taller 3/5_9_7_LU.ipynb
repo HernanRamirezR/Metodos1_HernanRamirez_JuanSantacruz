{
  "nbformat": 4,
  "nbformat_minor": 0,
  "metadata": {
    "colab": {
      "provenance": []
    },
    "kernelspec": {
      "name": "python3",
      "display_name": "Python 3"
    },
    "language_info": {
      "name": "python"
    }
  },
  "cells": [
    {
      "cell_type": "code",
      "execution_count": null,
      "metadata": {
        "id": "sFme1pS3gFJ8"
      },
      "outputs": [],
      "source": [
        "import numpy as np"
      ]
    },
    {
      "cell_type": "code",
      "source": [
        "def Gauss_Seidel(A,b,x0, itmax=1000, tolerancia= 1e-9):\n",
        "    \n",
        "    x = x0.copy()\n",
        "    \n",
        "    for it in range(itmax):\n",
        "        \n",
        "       \n",
        "        \n",
        "        for i in range(A.shape[0]):\n",
        "            \n",
        "            sum_ = 0.\n",
        "            for j in range(A.shape[1]):\n",
        "                if j!=i:\n",
        "                  sum_ += A[i,j]*x[j]     \n",
        "            x[i] = (b[i] - sum_)/A[i,i]  \n",
        "            \n",
        "\n",
        "            \n",
        "        residuo = np.linalg.norm( np.dot(A,x) - b )\n",
        "        \n",
        "        \n",
        "        if np.allclose(residuo,tolerancia,atol=tolerancia):\n",
        "            break\n",
        "        \n",
        "    return x"
      ],
      "metadata": {
        "id": "OTb0JjJo2OT9"
      },
      "execution_count": null,
      "outputs": []
    },
    {
      "cell_type": "code",
      "source": [
        "def matrix_triangular_division(A):\n",
        "  N = len(A)\n",
        "  L = np.zeros((N,N))\n",
        "  U = np.zeros((N,N))\n",
        "  U[0] = A[0]\n",
        "  x0 = np.zeros(N)\n",
        "  C = A.copy()\n",
        "  for j in range(N):\n",
        "    for i in range(N):\n",
        "      if i == j:\n",
        "        L[i][j] = 1\n",
        "      \n",
        "      if i > j and j == 0:\n",
        "        L[i][j] = A[i][j]/U[0][0]\n",
        "      if i > j:\n",
        "        C[i][j] = 0\n",
        "           \n",
        "  for i in range(N):\n",
        "    for j in range(N):\n",
        "        if i > j and j != 0:\n",
        "          sol = (A[i][j]-(L[i][j-1]*U[j-1][i-1]))/U[j][i-1]\n",
        "          L[i][j] = sol\n",
        "    B = Gauss_Seidel(L,A[:,i],x0)\n",
        "    U[:,i] = B\n",
        "    for j in range(N):\n",
        "       if i > j:\n",
        "         U[i][j] = 0\n",
        "\n",
        "      \n",
        "  return L,U"
      ],
      "metadata": {
        "id": "NE5eo14f79aZ"
      },
      "execution_count": null,
      "outputs": []
    },
    {
      "cell_type": "code",
      "source": [
        "A = np.array([[4,-2,1],[20,-7,12],[-8,13,17]])\n",
        "sol = matrix_triangular_division(A)"
      ],
      "metadata": {
        "id": "BeKJ1-9-8IEy"
      },
      "execution_count": null,
      "outputs": []
    },
    {
      "cell_type": "code",
      "source": [
        "print(sol[0])\n",
        "print(sol[1])"
      ],
      "metadata": {
        "colab": {
          "base_uri": "https://localhost:8080/"
        },
        "id": "xfXseE4a9KTR",
        "outputId": "09c023b9-89eb-4ba0-df80-ad395350642f"
      },
      "execution_count": null,
      "outputs": [
        {
          "output_type": "stream",
          "name": "stdout",
          "text": [
            "[[ 1.  0.  0.]\n",
            " [ 5.  1.  0.]\n",
            " [-2.  3.  1.]]\n",
            "[[ 4. -2.  1.]\n",
            " [ 0.  3.  7.]\n",
            " [ 0.  0. -2.]]\n"
          ]
        }
      ]
    }
  ]
}