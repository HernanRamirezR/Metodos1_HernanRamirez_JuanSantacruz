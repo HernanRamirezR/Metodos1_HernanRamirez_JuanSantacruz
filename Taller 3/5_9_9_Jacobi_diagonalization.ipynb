{
  "nbformat": 4,
  "nbformat_minor": 0,
  "metadata": {
    "colab": {
      "provenance": []
    },
    "kernelspec": {
      "name": "python3",
      "display_name": "Python 3"
    },
    "language_info": {
      "name": "python"
    }
  },
  "cells": [
    {
      "cell_type": "code",
      "execution_count": null,
      "metadata": {
        "id": "5tykjlB0_JmL"
      },
      "outputs": [],
      "source": [
        "import numpy as np"
      ]
    },
    {
      "cell_type": "code",
      "source": [
        "def rotation_matrix(theta,i,j):\n",
        " R = np.zeros((3,3))\n",
        " if (i,j) == (1,0) or (i,j) == (0,1):\n",
        "  R[0][0] = round(np.cos(theta),15)\n",
        "  R[1][1] = round(np.cos(theta),15)\n",
        "  R[0][1] = round(np.sin(theta),15)\n",
        "  R[1][0] = round(-1*np.sin(theta),15)\n",
        "  R[2][2] = 1\n",
        " elif (i,j) == (2,0) or (i,j) == (0,2):\n",
        "  R[0][0] = round(np.cos(theta),15)\n",
        "  R[2][2] = round(np.cos(theta),15)\n",
        "  R[0][2] = round(np.sin(theta),15)\n",
        "  R[2][0] = round(-1*np.sin(theta),15)\n",
        "  R[1][1] = 1\n",
        " elif (i,j) == (2,1) or (i,j) == (1,2):\n",
        "  R[2][2] = round(np.cos(theta),15)\n",
        "  R[1][1] = round(np.cos(theta),15)\n",
        "  R[1][2] = round(np.sin(theta),15)\n",
        "  R[2][1] = round(-1*np.sin(theta),15)\n",
        "  R[0][0] = 1\n",
        "\n",
        " return R\n",
        "\n"
      ],
      "metadata": {
        "id": "n2_1W4BFDfSp"
      },
      "execution_count": null,
      "outputs": []
    },
    {
      "cell_type": "code",
      "source": [
        " print(rotation_matrix(1,2,0))\n",
        " A = rotation_matrix(1,2,0)"
      ],
      "metadata": {
        "colab": {
          "base_uri": "https://localhost:8080/"
        },
        "id": "hzDPr5ZNEmgY",
        "outputId": "3d031b53-3f9d-479e-8cc4-01a5e989b66f"
      },
      "execution_count": null,
      "outputs": [
        {
          "output_type": "stream",
          "name": "stdout",
          "text": [
            "[[ 0.54030231  0.          0.84147098]\n",
            " [ 0.          1.          0.        ]\n",
            " [-0.84147098  0.          0.54030231]]\n"
          ]
        }
      ]
    },
    {
      "cell_type": "code",
      "source": [
        "def inverse(A):\n",
        "  N = len(A)\n",
        "  B = np.zeros((N,N))\n",
        "  for i in range(N):\n",
        "    for j in range(N):\n",
        "      B[j][i] = A[i][j]\n",
        "  return B\n"
      ],
      "metadata": {
        "id": "93auyrmMDT9n"
      },
      "execution_count": null,
      "outputs": []
    },
    {
      "cell_type": "code",
      "source": [
        "print(inverse(A))"
      ],
      "metadata": {
        "colab": {
          "base_uri": "https://localhost:8080/"
        },
        "id": "7CfmQmRrHS2i",
        "outputId": "75c8b9e3-4f1d-4393-98c9-5931ceb7d32e"
      },
      "execution_count": null,
      "outputs": [
        {
          "output_type": "stream",
          "name": "stdout",
          "text": [
            "[[ 0.54030231  0.         -0.84147098]\n",
            " [ 0.          1.          0.        ]\n",
            " [ 0.84147098  0.          0.54030231]]\n"
          ]
        }
      ]
    },
    {
      "cell_type": "code",
      "source": [
        "def jacobi_diagonalization(A,itmax=1000):\n",
        "  N = len(A)\n",
        "  A_copy = A.copy()\n",
        "  for it in range(itmax):\n",
        "    contador = 0\n",
        "    dominante = 0\n",
        "    for i in range(N):\n",
        "      for j in range(N):\n",
        "        if i != j:\n",
        "          if A[i][j] > dominante:\n",
        "            dominante = A[i][j]\n",
        "            I,J = i,j\n",
        "    for i in range(N):\n",
        "      for j in range(N):\n",
        "        if i != j: \n",
        "          if A[i][j] == 0:\n",
        "            contador +=1\n",
        "    if contador == 6:\n",
        "      break\n",
        "    if A[I][I] == A[J][J]:\n",
        "      theta = np.pi/4\n",
        "    else: \n",
        "      theta = (1/2)*np.arctan((2*A[I][J])/(A[I][I]-A[J][J]))\n",
        "    R = rotation_matrix(theta,I,J)\n",
        "    R_1 = inverse(R)\n",
        "    pre_matrix = np.matmul(A,R)\n",
        "    A = np.matmul(R_1,pre_matrix)\n",
        "  B = np.zeros(3)\n",
        "  for i in range(N):\n",
        "    for j in range(N):\n",
        "      if i == j:\n",
        "        B[i] = A[i][i]\n",
        "\n",
        "\n",
        "    \n",
        "\n",
        "\n",
        "  return B"
      ],
      "metadata": {
        "id": "o79qP1AI_LpX"
      },
      "execution_count": null,
      "outputs": []
    },
    {
      "cell_type": "code",
      "source": [
        "simetrica = np.array([[4,1,1],[1,3,2],[1,2,5]])"
      ],
      "metadata": {
        "id": "xnc_DhfoTDM-"
      },
      "execution_count": null,
      "outputs": []
    },
    {
      "cell_type": "code",
      "source": [
        "jacobi_diagonalization(simetrica)"
      ],
      "metadata": {
        "colab": {
          "base_uri": "https://localhost:8080/"
        },
        "id": "NqF40K6nS_ee",
        "outputId": "dc7ca728-d0d9-4f4d-c1f1-8f29eddf6645"
      },
      "execution_count": null,
      "outputs": [
        {
          "output_type": "execute_result",
          "data": {
            "text/plain": [
              "array([6.89484249, 3.3975584 , 1.70759911])"
            ]
          },
          "metadata": {},
          "execution_count": 8
        }
      ]
    },
    {
      "cell_type": "code",
      "source": [
        "np.linalg.eig(simetrica)[0]"
      ],
      "metadata": {
        "colab": {
          "base_uri": "https://localhost:8080/"
        },
        "id": "AtjCh9n4T8y-",
        "outputId": "06f98aed-a735-43b8-c239-2b4085893dfe"
      },
      "execution_count": null,
      "outputs": [
        {
          "output_type": "execute_result",
          "data": {
            "text/plain": [
              "array([6.89510652, 3.39729507, 1.70759841])"
            ]
          },
          "metadata": {},
          "execution_count": 9
        }
      ]
    }
  ]
}