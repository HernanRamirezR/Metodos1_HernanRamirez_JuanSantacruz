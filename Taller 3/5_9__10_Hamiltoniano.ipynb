{
 "cells": [
  {
   "cell_type": "code",
   "execution_count": 1,
   "metadata": {
    "id": "Dz2Hg5hrnWuD"
   },
   "outputs": [],
   "source": [
    "import numpy as np\n",
    "import matplotlib.pyplot as plt\n",
    "from mpl_toolkits.mplot3d import axes3d"
   ]
  },
  {
   "cell_type": "code",
   "execution_count": 2,
   "metadata": {
    "colab": {
     "base_uri": "https://localhost:8080/"
    },
    "id": "L3SJbQSMpsGz",
    "outputId": "84bc08b4-a573-4509-f317-32657781d72f"
   },
   "outputs": [
    {
     "name": "stdout",
     "output_type": "stream",
     "text": [
      "[[ 1  2 -1]\n",
      " [ 1  0  1]\n",
      " [ 4 -4  5]]\n"
     ]
    }
   ],
   "source": [
    "H = np.array([[1,2,-1],[1,0,1],[4,-4,5]])\n",
    "print(H)"
   ]
  },
  {
   "cell_type": "code",
   "execution_count": 3,
   "metadata": {
    "id": "S9qMdx7vO0qh"
   },
   "outputs": [],
   "source": [
    "def norma(v):\n",
    "  N = len(v)\n",
    "  contador = 0\n",
    "  for i in range(N):\n",
    "    contador += v[i]**2\n",
    "  contador = np.sqrt(contador)\n",
    "  return contador\n"
   ]
  },
  {
   "cell_type": "code",
   "execution_count": 4,
   "metadata": {
    "id": "LUL39lIdtI1y"
   },
   "outputs": [],
   "source": [
    "def algoritmoDePotenciaInversa(A,itmax=10000,mu=1.00001):\n",
    "  N = len(A)\n",
    "  v_0 = np.array([0,0,1])\n",
    "  v_0 = v_0/np.linalg.norm(v_0)  \n",
    "\n",
    "  A_inversa = np.linalg.inv(A- mu * np.identity(A.shape[0]))\n",
    "  for it in range(itmax):\n",
    "    \n",
    "    v_1 = A_inversa @ v_0\n",
    "    v_1 = v_1/np.linalg.norm(v_1)\n",
    "    lambda_min = np.dot(v_1,np.dot(A,v_1))\n",
    "    norma_0 = np.linalg.norm(v_0)\n",
    "    norma_1 = np.linalg.norm(v_1)\n",
    "    if abs(norma_0 - norma_1) <= 1E-5:\n",
    "      break\n",
    "    v_0 = v_1\n",
    "  \n",
    "  return lambda_min,-v_1\n",
    "    \n",
    "    \n",
    "  "
   ]
  },
  {
   "cell_type": "code",
   "execution_count": 5,
   "metadata": {
    "colab": {
     "base_uri": "https://localhost:8080/"
    },
    "id": "p60cT5XVQP2H",
    "outputId": "035d5157-f6e1-4aef-b139-268643724e1c"
   },
   "outputs": [
    {
     "name": "stdout",
     "output_type": "stream",
     "text": [
      "1.00002\n",
      "[ 0.40824693 -0.40824693 -0.81649794]\n"
     ]
    }
   ],
   "source": [
    "lambda_min,vector1 = algoritmoDePotenciaInversa(H)\n",
    "print(round(lambda_min,5))\n",
    "print(vector1)\n"
   ]
  },
  {
   "cell_type": "code",
   "execution_count": 6,
   "metadata": {
    "colab": {
     "base_uri": "https://localhost:8080/"
    },
    "id": "LWU4_AGAcMTi",
    "outputId": "5f01c74c-3fa6-4c33-bdf8-bcbc24423ed6"
   },
   "outputs": [
    {
     "data": {
      "text/plain": [
       "array([3., 2., 1.])"
      ]
     },
     "execution_count": 6,
     "metadata": {},
     "output_type": "execute_result"
    }
   ],
   "source": [
    "np.linalg.eig(H)[0]\n"
   ]
  },
  {
   "cell_type": "code",
   "execution_count": 7,
   "metadata": {
    "colab": {
     "base_uri": "https://localhost:8080/"
    },
    "id": "rZBn3lpacUYq",
    "outputId": "74ed86c7-bac3-4487-ec71-444a392aef56"
   },
   "outputs": [
    {
     "data": {
      "text/plain": [
       "array([[-0.23570226,  0.43643578,  0.40824829],\n",
       "       [ 0.23570226, -0.21821789, -0.40824829],\n",
       "       [ 0.94280904, -0.87287156, -0.81649658]])"
      ]
     },
     "execution_count": 7,
     "metadata": {},
     "output_type": "execute_result"
    }
   ],
   "source": [
    "np.linalg.eig(H)[1]"
   ]
  }
 ],
 "metadata": {
  "colab": {
   "provenance": []
  },
  "kernelspec": {
   "display_name": "Python 3 (ipykernel)",
   "language": "python",
   "name": "python3"
  },
  "language_info": {
   "codemirror_mode": {
    "name": "ipython",
    "version": 3
   },
   "file_extension": ".py",
   "mimetype": "text/x-python",
   "name": "python",
   "nbconvert_exporter": "python",
   "pygments_lexer": "ipython3",
   "version": "3.10.6"
  }
 },
 "nbformat": 4,
 "nbformat_minor": 1
}
