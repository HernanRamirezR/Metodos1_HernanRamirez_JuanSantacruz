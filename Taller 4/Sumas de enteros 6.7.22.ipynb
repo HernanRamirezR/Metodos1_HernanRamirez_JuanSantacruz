{
 "cells": [
  {
   "cell_type": "code",
   "execution_count": 1,
   "metadata": {},
   "outputs": [],
   "source": [
    "def count(N):\n",
    "    contador = 0\n",
    "    lista  = []\n",
    "    for i in range(N+1):\n",
    "        for j in range(N+1):\n",
    "            for k in range(N+1):\n",
    "                if i+j+k == 10:\n",
    "                    numeros = [i,j,k]\n",
    "                    lista.append(numeros)\n",
    "                    contador +=1\n",
    "    return contador,lista"
   ]
  },
  {
   "cell_type": "code",
   "execution_count": 2,
   "metadata": {},
   "outputs": [
    {
     "data": {
      "text/plain": [
       "66"
      ]
     },
     "execution_count": 2,
     "metadata": {},
     "output_type": "execute_result"
    }
   ],
   "source": [
    "numero = count(10)\n",
    "numero[0]"
   ]
  },
  {
   "cell_type": "code",
   "execution_count": 3,
   "metadata": {},
   "outputs": [
    {
     "data": {
      "text/plain": [
       "[[0, 0, 10],\n",
       " [0, 1, 9],\n",
       " [0, 2, 8],\n",
       " [0, 3, 7],\n",
       " [0, 4, 6],\n",
       " [0, 5, 5],\n",
       " [0, 6, 4],\n",
       " [0, 7, 3],\n",
       " [0, 8, 2],\n",
       " [0, 9, 1],\n",
       " [0, 10, 0],\n",
       " [1, 0, 9],\n",
       " [1, 1, 8],\n",
       " [1, 2, 7],\n",
       " [1, 3, 6],\n",
       " [1, 4, 5],\n",
       " [1, 5, 4],\n",
       " [1, 6, 3],\n",
       " [1, 7, 2],\n",
       " [1, 8, 1],\n",
       " [1, 9, 0],\n",
       " [2, 0, 8],\n",
       " [2, 1, 7],\n",
       " [2, 2, 6],\n",
       " [2, 3, 5],\n",
       " [2, 4, 4],\n",
       " [2, 5, 3],\n",
       " [2, 6, 2],\n",
       " [2, 7, 1],\n",
       " [2, 8, 0],\n",
       " [3, 0, 7],\n",
       " [3, 1, 6],\n",
       " [3, 2, 5],\n",
       " [3, 3, 4],\n",
       " [3, 4, 3],\n",
       " [3, 5, 2],\n",
       " [3, 6, 1],\n",
       " [3, 7, 0],\n",
       " [4, 0, 6],\n",
       " [4, 1, 5],\n",
       " [4, 2, 4],\n",
       " [4, 3, 3],\n",
       " [4, 4, 2],\n",
       " [4, 5, 1],\n",
       " [4, 6, 0],\n",
       " [5, 0, 5],\n",
       " [5, 1, 4],\n",
       " [5, 2, 3],\n",
       " [5, 3, 2],\n",
       " [5, 4, 1],\n",
       " [5, 5, 0],\n",
       " [6, 0, 4],\n",
       " [6, 1, 3],\n",
       " [6, 2, 2],\n",
       " [6, 3, 1],\n",
       " [6, 4, 0],\n",
       " [7, 0, 3],\n",
       " [7, 1, 2],\n",
       " [7, 2, 1],\n",
       " [7, 3, 0],\n",
       " [8, 0, 2],\n",
       " [8, 1, 1],\n",
       " [8, 2, 0],\n",
       " [9, 0, 1],\n",
       " [9, 1, 0],\n",
       " [10, 0, 0]]"
      ]
     },
     "execution_count": 3,
     "metadata": {},
     "output_type": "execute_result"
    }
   ],
   "source": [
    "\n",
    "numero[1]"
   ]
  }
 ],
 "metadata": {
  "kernelspec": {
   "display_name": "Python 3",
   "language": "python",
   "name": "python3"
  },
  "language_info": {
   "codemirror_mode": {
    "name": "ipython",
    "version": 3
   },
   "file_extension": ".py",
   "mimetype": "text/x-python",
   "name": "python",
   "nbconvert_exporter": "python",
   "pygments_lexer": "ipython3",
   "version": "3.10.11"
  },
  "orig_nbformat": 4
 },
 "nbformat": 4,
 "nbformat_minor": 2
}
