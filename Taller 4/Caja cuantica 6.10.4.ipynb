{
 "cells": [
  {
   "cell_type": "code",
   "execution_count": 2,
   "metadata": {},
   "outputs": [],
   "source": [
    "import numpy as np\n",
    "import sympy as sp\n",
    "from sympy import factorial as fac\n"
   ]
  },
  {
   "cell_type": "code",
   "execution_count": 3,
   "metadata": {},
   "outputs": [],
   "source": [
    "def calcular_combinatoria(a,b):\n",
    "    comb = fac(a)/(fac(b)*fac(a-b))\n",
    "    return comb"
   ]
  },
  {
   "cell_type": "code",
   "execution_count": 4,
   "metadata": {},
   "outputs": [
    {
     "data": {
      "text/latex": [
       "$\\displaystyle \\frac{6}{x! \\left(3 - x\\right)!}$"
      ],
      "text/plain": [
       "6/(factorial(x)*factorial(3 - x))"
      ]
     },
     "execution_count": 4,
     "metadata": {},
     "output_type": "execute_result"
    }
   ],
   "source": [
    "x = sp.symbols(\"x\")\n",
    "y = sp.symbols(\"y\")\n",
    "electron = calcular_combinatoria(3,x)\n",
    "proton = calcular_combinatoria(2,y)\n",
    "neutron = calcular_combinatoria(3,4-x-y)\n",
    "totales = calcular_combinatoria(8,4)\n",
    "\n",
    "f = electron * proton * neutron / totales\n",
    "electron"
   ]
  },
  {
   "cell_type": "code",
   "execution_count": 5,
   "metadata": {},
   "outputs": [
    {
     "data": {
      "text/latex": [
       "$\\displaystyle \\frac{2}{y! \\left(2 - y\\right)!}$"
      ],
      "text/plain": [
       "2/(factorial(y)*factorial(2 - y))"
      ]
     },
     "execution_count": 5,
     "metadata": {},
     "output_type": "execute_result"
    }
   ],
   "source": [
    "proton"
   ]
  },
  {
   "cell_type": "code",
   "execution_count": 6,
   "metadata": {},
   "outputs": [
    {
     "data": {
      "text/latex": [
       "$\\displaystyle \\frac{6}{\\left(- x - y + 4\\right)! \\left(x + y - 1\\right)!}$"
      ],
      "text/plain": [
       "6/(factorial(-x - y + 4)*factorial(x + y - 1))"
      ]
     },
     "execution_count": 6,
     "metadata": {},
     "output_type": "execute_result"
    }
   ],
   "source": [
    "neutron"
   ]
  },
  {
   "cell_type": "code",
   "execution_count": 7,
   "metadata": {},
   "outputs": [
    {
     "data": {
      "text/latex": [
       "$\\displaystyle 70$"
      ],
      "text/plain": [
       "70"
      ]
     },
     "execution_count": 7,
     "metadata": {},
     "output_type": "execute_result"
    }
   ],
   "source": [
    "totales"
   ]
  },
  {
   "cell_type": "code",
   "execution_count": 8,
   "metadata": {},
   "outputs": [
    {
     "data": {
      "text/latex": [
       "$\\displaystyle \\frac{36}{35 x! y! \\left(2 - y\\right)! \\left(3 - x\\right)! \\left(- x - y + 4\\right)! \\left(x + y - 1\\right)!}$"
      ],
      "text/plain": [
       "36/(35*factorial(x)*factorial(y)*factorial(2 - y)*factorial(3 - x)*factorial(-x - y + 4)*factorial(x + y - 1))"
      ]
     },
     "execution_count": 8,
     "metadata": {},
     "output_type": "execute_result"
    }
   ],
   "source": [
    "f"
   ]
  },
  {
   "cell_type": "code",
   "execution_count": 9,
   "metadata": {},
   "outputs": [
    {
     "data": {
      "text/latex": [
       "$\\displaystyle \\frac{18}{35 x! \\left(3 - x\\right)! \\left(4 - x\\right)! \\left(x - 1\\right)!} + \\frac{18}{35 x! \\left(2 - x\\right)! \\left(3 - x\\right)! \\left(x + 1\\right)!} + \\frac{36}{35 x!^{2} \\left(3 - x\\right)!^{2}}$"
      ],
      "text/plain": [
       "18/(35*factorial(x)*factorial(3 - x)*factorial(4 - x)*factorial(x - 1)) + 18/(35*factorial(x)*factorial(2 - x)*factorial(3 - x)*factorial(x + 1)) + 36/(35*factorial(x)**2*factorial(3 - x)**2)"
      ]
     },
     "execution_count": 9,
     "metadata": {},
     "output_type": "execute_result"
    }
   ],
   "source": [
    "g = f.subs({y:0})+ f.subs({y:1}) + f.subs({y:2})\n",
    "\n",
    "g\n"
   ]
  },
  {
   "cell_type": "code",
   "execution_count": 10,
   "metadata": {},
   "outputs": [
    {
     "data": {
      "text/latex": [
       "$\\displaystyle \\frac{6}{35 y! \\left(2 - y\\right)! \\left(4 - y\\right)! \\left(y - 1\\right)!} + \\frac{18}{35 y! \\left(2 - y\\right)!^{2} \\left(y + 1\\right)!} + \\frac{6}{35 y! \\left(1 - y\\right)! \\left(2 - y\\right)! \\left(y + 2\\right)!} + \\frac{18}{35 y!^{2} \\left(2 - y\\right)! \\left(3 - y\\right)!}$"
      ],
      "text/plain": [
       "6/(35*factorial(y)*factorial(2 - y)*factorial(4 - y)*factorial(y - 1)) + 18/(35*factorial(y)*factorial(2 - y)**2*factorial(y + 1)) + 6/(35*factorial(y)*factorial(1 - y)*factorial(2 - y)*factorial(y + 2)) + 18/(35*factorial(y)**2*factorial(2 - y)*factorial(3 - y))"
      ]
     },
     "execution_count": 10,
     "metadata": {},
     "output_type": "execute_result"
    }
   ],
   "source": [
    "h = f.subs({x:0}) + f.subs({x:1}) + f.subs({x:2}) + f.subs({x:3})\n",
    "h"
   ]
  },
  {
   "cell_type": "code",
   "execution_count": 11,
   "metadata": {},
   "outputs": [],
   "source": [
    "def expected_value_x(f,n):\n",
    "    e = f.subs({x:n})\n",
    "    prob = e*n\n",
    "    return prob\n",
    "\n",
    "def expected_value_y(f,n):\n",
    "    e = f.subs({y:n})\n",
    "    prob = e*n\n",
    "    return prob\n",
    "def expected_value_xy(f,n,m):\n",
    "    e = f.subs({x:n,y:m})\n",
    "    prob = e*n*m\n",
    "    return prob"
   ]
  },
  {
   "cell_type": "code",
   "execution_count": 12,
   "metadata": {},
   "outputs": [
    {
     "data": {
      "text/latex": [
       "$\\displaystyle \\frac{3}{2}$"
      ],
      "text/plain": [
       "3/2"
      ]
     },
     "execution_count": 12,
     "metadata": {},
     "output_type": "execute_result"
    }
   ],
   "source": [
    "n = np.linspace(0,3,4)\n",
    "e_x = 0\n",
    "for i in range(len(n)):\n",
    "    e_i = expected_value_x(g,i)\n",
    "    e_x += e_i\n",
    "e_x"
   ]
  },
  {
   "cell_type": "code",
   "execution_count": 13,
   "metadata": {},
   "outputs": [
    {
     "data": {
      "text/latex": [
       "$\\displaystyle 1$"
      ],
      "text/plain": [
       "1"
      ]
     },
     "execution_count": 13,
     "metadata": {},
     "output_type": "execute_result"
    }
   ],
   "source": [
    "m = np.linspace(0,2,3)\n",
    "e_y = 0\n",
    "for j in range(len(m)):\n",
    "    e_j = expected_value_y(h,j)\n",
    "    e_y += e_j\n",
    "e_y"
   ]
  },
  {
   "cell_type": "code",
   "execution_count": 14,
   "metadata": {},
   "outputs": [
    {
     "data": {
      "text/latex": [
       "$\\displaystyle \\frac{9}{7}$"
      ],
      "text/plain": [
       "9/7"
      ]
     },
     "execution_count": 14,
     "metadata": {},
     "output_type": "execute_result"
    }
   ],
   "source": [
    "e_xy = 0\n",
    "\n",
    "for i in range(len(n)):\n",
    "    for j in range(len(m)):\n",
    "     e_ij = expected_value_xy(f,i,j)\n",
    "     e_xy += e_ij\n",
    "e_xy"
   ]
  },
  {
   "cell_type": "code",
   "execution_count": 15,
   "metadata": {},
   "outputs": [
    {
     "data": {
      "text/latex": [
       "$\\displaystyle - \\frac{3}{14}$"
      ],
      "text/plain": [
       "-3/14"
      ]
     },
     "execution_count": 15,
     "metadata": {},
     "output_type": "execute_result"
    }
   ],
   "source": [
    "cov = e_xy -e_x*e_y\n",
    "cov"
   ]
  },
  {
   "cell_type": "code",
   "execution_count": 19,
   "metadata": {},
   "outputs": [
    {
     "data": {
      "text/latex": [
       "$\\displaystyle - \\frac{3}{14}$"
      ],
      "text/plain": [
       "-3/14"
      ]
     },
     "execution_count": 19,
     "metadata": {},
     "output_type": "execute_result"
    }
   ],
   "source": [
    "cov = 0\n",
    "\n",
    "for i in range(len(n)):\n",
    "    for j in range(len(m)):\n",
    "     e_ij = (i-e_x)*(j-e_y)*f.subs({x:i,y:j})\n",
    "     cov += e_ij\n",
    "cov"
   ]
  }
 ],
 "metadata": {
  "kernelspec": {
   "display_name": "Python 3",
   "language": "python",
   "name": "python3"
  },
  "language_info": {
   "codemirror_mode": {
    "name": "ipython",
    "version": 3
   },
   "file_extension": ".py",
   "mimetype": "text/x-python",
   "name": "python",
   "nbconvert_exporter": "python",
   "pygments_lexer": "ipython3",
   "version": "3.10.11"
  },
  "orig_nbformat": 4
 },
 "nbformat": 4,
 "nbformat_minor": 2
}
