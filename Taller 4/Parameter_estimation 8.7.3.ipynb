{
 "cells": [
  {
   "cell_type": "code",
   "execution_count": 16,
   "id": "819257c3",
   "metadata": {},
   "outputs": [
    {
     "data": {
      "text/html": [
       "<style>.container { width:90% !important; }</style>"
      ],
      "text/plain": [
       "<IPython.core.display.HTML object>"
      ]
     },
     "metadata": {},
     "output_type": "display_data"
    }
   ],
   "source": [
    "# %matplotlib notebook\n",
    "from IPython.display import display, IFrame, HTML\n",
    "display(HTML(\"<style>.container { width:90% !important; }</style>\"))\n",
    "\n",
    "import numpy             as np\n",
    "import matplotlib.pyplot as plt\n",
    "from mpl_toolkits.mplot3d import Axes3D\n",
    "\n",
    "from matplotlib          import rc \n",
    "from matplotlib          import cm\n",
    "\n",
    "import pandas as pd\n",
    "import corner\n",
    "\n",
    "import os\n",
    "import os.path as path\n",
    "import wget\n",
    "\n",
    "import emcee\n",
    "\n",
    "from tqdm import tqdm\n",
    "\n",
    "from scipy.integrate import dblquad\n",
    "from scipy.integrate import quad"
   ]
  },
  {
   "cell_type": "code",
   "execution_count": 17,
   "id": "b44481c1",
   "metadata": {},
   "outputs": [],
   "source": [
    "if not path.exists('Data'):\n",
    "    os.mkdir('Data')\n",
    "    \n",
    "file = 'Data/Gaussiano.csv'\n",
    "url ='https://raw.githubusercontent.com/asegura4488/Database/main/MetodosComputacionalesReforma/Gaussiano.csv'\n",
    "\n",
    "if not path.exists(file):\n",
    "    Path_ = wget.download(url,file)\n",
    "    \n",
    "else:\n",
    "    Path_ = file"
   ]
  },
  {
   "cell_type": "code",
   "execution_count": 18,
   "id": "98c5b9a4",
   "metadata": {},
   "outputs": [
    {
     "data": {
      "text/html": [
       "<div>\n",
       "<style scoped>\n",
       "    .dataframe tbody tr th:only-of-type {\n",
       "        vertical-align: middle;\n",
       "    }\n",
       "\n",
       "    .dataframe tbody tr th {\n",
       "        vertical-align: top;\n",
       "    }\n",
       "\n",
       "    .dataframe thead th {\n",
       "        text-align: right;\n",
       "    }\n",
       "</style>\n",
       "<table border=\"1\" class=\"dataframe\">\n",
       "  <thead>\n",
       "    <tr style=\"text-align: right;\">\n",
       "      <th></th>\n",
       "      <th>x</th>\n",
       "    </tr>\n",
       "  </thead>\n",
       "  <tbody>\n",
       "    <tr>\n",
       "      <th>0</th>\n",
       "      <td>0.906451</td>\n",
       "    </tr>\n",
       "    <tr>\n",
       "      <th>1</th>\n",
       "      <td>5.446117</td>\n",
       "    </tr>\n",
       "    <tr>\n",
       "      <th>2</th>\n",
       "      <td>6.840238</td>\n",
       "    </tr>\n",
       "    <tr>\n",
       "      <th>3</th>\n",
       "      <td>0.743644</td>\n",
       "    </tr>\n",
       "    <tr>\n",
       "      <th>4</th>\n",
       "      <td>7.338518</td>\n",
       "    </tr>\n",
       "    <tr>\n",
       "      <th>...</th>\n",
       "      <td>...</td>\n",
       "    </tr>\n",
       "    <tr>\n",
       "      <th>95</th>\n",
       "      <td>1.497647</td>\n",
       "    </tr>\n",
       "    <tr>\n",
       "      <th>96</th>\n",
       "      <td>4.236658</td>\n",
       "    </tr>\n",
       "    <tr>\n",
       "      <th>97</th>\n",
       "      <td>4.678540</td>\n",
       "    </tr>\n",
       "    <tr>\n",
       "      <th>98</th>\n",
       "      <td>6.479197</td>\n",
       "    </tr>\n",
       "    <tr>\n",
       "      <th>99</th>\n",
       "      <td>2.595297</td>\n",
       "    </tr>\n",
       "  </tbody>\n",
       "</table>\n",
       "<p>100 rows × 1 columns</p>\n",
       "</div>"
      ],
      "text/plain": [
       "           x\n",
       "0   0.906451\n",
       "1   5.446117\n",
       "2   6.840238\n",
       "3   0.743644\n",
       "4   7.338518\n",
       "..       ...\n",
       "95  1.497647\n",
       "96  4.236658\n",
       "97  4.678540\n",
       "98  6.479197\n",
       "99  2.595297\n",
       "\n",
       "[100 rows x 1 columns]"
      ]
     },
     "execution_count": 18,
     "metadata": {},
     "output_type": "execute_result"
    }
   ],
   "source": [
    "data = pd.read_csv(Path_)\n",
    "data"
   ]
  },
  {
   "cell_type": "code",
   "execution_count": 19,
   "id": "60c0a276",
   "metadata": {},
   "outputs": [],
   "source": [
    "X = data.x"
   ]
  },
  {
   "cell_type": "code",
   "execution_count": 20,
   "id": "ea023a1e",
   "metadata": {},
   "outputs": [],
   "source": [
    "def prior(mu, sigma):\n",
    "    if 3 <= mu <= 5 and 0.5 <= sigma <= 3.5:\n",
    "        return 1\n",
    "    else:\n",
    "        return 0"
   ]
  },
  {
   "cell_type": "code",
   "execution_count": 21,
   "id": "6803f1f3",
   "metadata": {},
   "outputs": [],
   "source": [
    "def LogPrior(mu, sigma):\n",
    "    \n",
    "    if 3. <= mu <= 5. and 0.5 <= sigma <= 3.5:\n",
    "        return 0.\n",
    "    else:\n",
    "        return -np.inf"
   ]
  },
  {
   "cell_type": "code",
   "execution_count": 22,
   "id": "26fb0277",
   "metadata": {},
   "outputs": [],
   "source": [
    "def Gauss(mu, sigma, x):\n",
    "    return np.exp( -0.5*(x-mu)**2/sigma**2  )/np.sqrt(2*np.pi*sigma**2)"
   ]
  },
  {
   "cell_type": "code",
   "execution_count": 23,
   "id": "78a8a4d2",
   "metadata": {},
   "outputs": [],
   "source": [
    "def Likelihood(mu, sigma, x):\n",
    "    return Gauss(mu,sigma,x)"
   ]
  },
  {
   "cell_type": "code",
   "execution_count": 24,
   "id": "09ac5e18",
   "metadata": {},
   "outputs": [],
   "source": [
    "def JointLikelihood(mu, sigma, x):\n",
    "    return np.sum(np.log(Likelihood(mu, sigma, x)))"
   ]
  },
  {
   "cell_type": "code",
   "execution_count": 25,
   "id": "9bc221e9",
   "metadata": {},
   "outputs": [],
   "source": [
    "def LogPosterior(mu, sigma, x):\n",
    "    LogP = LogPrior(mu, sigma)\n",
    "    if not np.isfinite(LogP):\n",
    "        return -np.inf\n",
    "    else:\n",
    "        return JointLikelihood(mu, sigma, x) + LogP"
   ]
  },
  {
   "cell_type": "code",
   "execution_count": 26,
   "id": "2e7564e1",
   "metadata": {},
   "outputs": [],
   "source": [
    "def metropolis(mu, sigma, X,  NSteps=int(2e4 + 1), delta= 0.4):\n",
    "    x = np.zeros((NSteps,2))\n",
    "    x[0, 0] = mu\n",
    "    x[0, 1] = sigma\n",
    "    \n",
    "    for i in tqdm(range(1,NSteps)):\n",
    "        P0 = LogPosterior(x[i-1, 0], x[i-1, 1], X)\n",
    "        mu_ = x[i-1, 0] + delta*2*(np.random.rand()-0.5)\n",
    "        sigma_ = x[i-1, 1] + delta*2*(np.random.rand()-0.5)\n",
    "        \n",
    "        P_ = LogPosterior(mu_, sigma_, X)\n",
    "        \n",
    "        if P_ == -np.inf:\n",
    "            alpha = P_\n",
    "        else:\n",
    "            alpha = np.minimum( 1, P_/P0 )\n",
    "        \n",
    "        g = np.random.rand()\n",
    "        \n",
    "        if alpha > g:\n",
    "            x[i, 0] = mu_\n",
    "            x[i, 1] = sigma_\n",
    "        else:\n",
    "            x[i,:] = x[i-1,:]\n",
    "            \n",
    "    return x[1000:,:]"
   ]
  },
  {
   "cell_type": "code",
   "execution_count": 27,
   "id": "20f1262d",
   "metadata": {},
   "outputs": [
    {
     "name": "stderr",
     "output_type": "stream",
     "text": [
      "100%|██████████████████████████████████████████████████████████████████████████| 20000/20000 [00:19<00:00, 1004.89it/s]\n"
     ]
    }
   ],
   "source": [
    "samples = metropolis(4.5, 1.5, X, )"
   ]
  },
  {
   "cell_type": "code",
   "execution_count": 29,
   "id": "b0979ca5",
   "metadata": {},
   "outputs": [
    {
     "data": {
      "text/plain": [
       "4.008428646683392"
      ]
     },
     "execution_count": 29,
     "metadata": {},
     "output_type": "execute_result"
    }
   ],
   "source": [
    "Best_mu = np.percentile(samples[:, 0], 50)\n",
    "Best_mu"
   ]
  },
  {
   "cell_type": "code",
   "execution_count": 30,
   "id": "de1097a5",
   "metadata": {},
   "outputs": [
    {
     "data": {
      "text/plain": [
       "3.293141659789672"
      ]
     },
     "execution_count": 30,
     "metadata": {},
     "output_type": "execute_result"
    }
   ],
   "source": [
    "inf_mu = np.percentile(samples[:, 0], 16)\n",
    "inf_mu"
   ]
  },
  {
   "cell_type": "code",
   "execution_count": 32,
   "id": "73a00630",
   "metadata": {},
   "outputs": [
    {
     "data": {
      "text/plain": [
       "4.7036745015211014"
      ]
     },
     "execution_count": 32,
     "metadata": {},
     "output_type": "execute_result"
    }
   ],
   "source": [
    "sup_mu = np.percentile(samples[:, 0], 84)\n",
    "sup_mu"
   ]
  },
  {
   "cell_type": "markdown",
   "id": "20194cea",
   "metadata": {},
   "source": [
    "$\\hat{\\mu} = 4^{3.3}_{4} at \\%68 CL$ "
   ]
  },
  {
   "cell_type": "code",
   "execution_count": 36,
   "id": "4bcc2878",
   "metadata": {},
   "outputs": [
    {
     "data": {
      "text/plain": [
       "1.8046678527734181"
      ]
     },
     "execution_count": 36,
     "metadata": {},
     "output_type": "execute_result"
    }
   ],
   "source": [
    "Best_sigma = np.percentile(samples[:, 1], 50)\n",
    "Best_sigma"
   ]
  },
  {
   "cell_type": "code",
   "execution_count": 37,
   "id": "c94d7823",
   "metadata": {},
   "outputs": [
    {
     "data": {
      "text/plain": [
       "0.7211199816119844"
      ]
     },
     "execution_count": 37,
     "metadata": {},
     "output_type": "execute_result"
    }
   ],
   "source": [
    "inf_sigma = np.percentile(samples[:, 1], 16)\n",
    "inf_sigma"
   ]
  },
  {
   "cell_type": "code",
   "execution_count": 39,
   "id": "b9a27489",
   "metadata": {},
   "outputs": [
    {
     "data": {
      "text/plain": [
       "2.983398935447275"
      ]
     },
     "execution_count": 39,
     "metadata": {},
     "output_type": "execute_result"
    }
   ],
   "source": [
    "sup_sigma = np.percentile(samples[:, 1], 84)\n",
    "sup_sigma"
   ]
  },
  {
   "cell_type": "markdown",
   "id": "d5aeb27d",
   "metadata": {},
   "source": [
    "$\\hat{\\sigma} = 1.8^{0.7}_{3} at \\%68 CL$ "
   ]
  }
 ],
 "metadata": {
  "kernelspec": {
   "display_name": "Python 3 (ipykernel)",
   "language": "python",
   "name": "python3"
  },
  "language_info": {
   "codemirror_mode": {
    "name": "ipython",
    "version": 3
   },
   "file_extension": ".py",
   "mimetype": "text/x-python",
   "name": "python",
   "nbconvert_exporter": "python",
   "pygments_lexer": "ipython3",
   "version": "3.10.6"
  }
 },
 "nbformat": 4,
 "nbformat_minor": 5
}
