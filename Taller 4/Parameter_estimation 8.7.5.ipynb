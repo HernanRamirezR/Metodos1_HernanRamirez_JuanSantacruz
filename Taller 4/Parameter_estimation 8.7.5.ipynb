{
 "cells": [
  {
   "cell_type": "code",
   "execution_count": 1,
   "id": "9fbf7d80",
   "metadata": {},
   "outputs": [],
   "source": [
    "import numpy as np"
   ]
  },
  {
   "cell_type": "code",
   "execution_count": 2,
   "id": "aed9fcb6",
   "metadata": {},
   "outputs": [],
   "source": [
    "def estimar_media_exponencial(n, theta):\n",
    "    sample = np.random.exponential(scale=theta, size=n)\n",
    "    estimado = np.mean(sample)\n",
    "    return estimado"
   ]
  },
  {
   "cell_type": "code",
   "execution_count": 5,
   "id": "02c69032",
   "metadata": {},
   "outputs": [],
   "source": [
    "def mtc(n, theta, N):\n",
    "    estimadores = []\n",
    "    for _ in range(N):\n",
    "        estimado = estimar_media_exponencial(n, theta)\n",
    "        estimadores.append(estimado)\n",
    "    \n",
    "    varianza = np.var(estimadores)\n",
    "    return varianza"
   ]
  },
  {
   "cell_type": "code",
   "execution_count": 6,
   "id": "e35b2735",
   "metadata": {},
   "outputs": [
    {
     "data": {
      "text/plain": [
       "0.20000120908594063"
      ]
     },
     "execution_count": 6,
     "metadata": {},
     "output_type": "execute_result"
    }
   ],
   "source": [
    "var= mtc(20, 2, 10**6)\n",
    "var"
   ]
  },
  {
   "cell_type": "code",
   "execution_count": null,
   "id": "14317ae6",
   "metadata": {},
   "outputs": [],
   "source": []
  }
 ],
 "metadata": {
  "kernelspec": {
   "display_name": "Python 3 (ipykernel)",
   "language": "python",
   "name": "python3"
  },
  "language_info": {
   "codemirror_mode": {
    "name": "ipython",
    "version": 3
   },
   "file_extension": ".py",
   "mimetype": "text/x-python",
   "name": "python",
   "nbconvert_exporter": "python",
   "pygments_lexer": "ipython3",
   "version": "3.10.6"
  }
 },
 "nbformat": 4,
 "nbformat_minor": 5
}
