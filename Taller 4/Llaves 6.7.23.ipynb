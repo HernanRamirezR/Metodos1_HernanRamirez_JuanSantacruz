{
 "cells": [
  {
   "cell_type": "code",
   "execution_count": 6,
   "metadata": {},
   "outputs": [],
   "source": [
    "import numpy as np "
   ]
  },
  {
   "cell_type": "code",
   "execution_count": 7,
   "metadata": {},
   "outputs": [],
   "source": [
    "def count(r,a,v,S):\n",
    "    \n",
    "    lista = []\n",
    "    contador = 0\n",
    "    for i in range(r+1):\n",
    "        for j in range(a+1):\n",
    "            for k in range(v+1):\n",
    "                if i+j+k == S:\n",
    "                    tripla = [i,j,k]\n",
    "                    lista.append(tripla)\n",
    "                    contador +=1\n",
    "                 \n",
    "    return contador,lista           \n",
    "                            \n",
    "                    "
   ]
  },
  {
   "cell_type": "code",
   "execution_count": 8,
   "metadata": {},
   "outputs": [],
   "source": [
    "a = count(3,3,3,4)\n"
   ]
  },
  {
   "cell_type": "code",
   "execution_count": 9,
   "metadata": {},
   "outputs": [
    {
     "data": {
      "text/plain": [
       "12"
      ]
     },
     "execution_count": 9,
     "metadata": {},
     "output_type": "execute_result"
    }
   ],
   "source": [
    "a[0]"
   ]
  },
  {
   "cell_type": "code",
   "execution_count": 10,
   "metadata": {},
   "outputs": [
    {
     "data": {
      "text/plain": [
       "[[0, 1, 3],\n",
       " [0, 2, 2],\n",
       " [0, 3, 1],\n",
       " [1, 0, 3],\n",
       " [1, 1, 2],\n",
       " [1, 2, 1],\n",
       " [1, 3, 0],\n",
       " [2, 0, 2],\n",
       " [2, 1, 1],\n",
       " [2, 2, 0],\n",
       " [3, 0, 1],\n",
       " [3, 1, 0]]"
      ]
     },
     "execution_count": 10,
     "metadata": {},
     "output_type": "execute_result"
    }
   ],
   "source": [
    "a[1]"
   ]
  }
 ],
 "metadata": {
  "kernelspec": {
   "display_name": "Python 3",
   "language": "python",
   "name": "python3"
  },
  "language_info": {
   "codemirror_mode": {
    "name": "ipython",
    "version": 3
   },
   "file_extension": ".py",
   "mimetype": "text/x-python",
   "name": "python",
   "nbconvert_exporter": "python",
   "pygments_lexer": "ipython3",
   "version": "3.10.11"
  },
  "orig_nbformat": 4
 },
 "nbformat": 4,
 "nbformat_minor": 2
}
