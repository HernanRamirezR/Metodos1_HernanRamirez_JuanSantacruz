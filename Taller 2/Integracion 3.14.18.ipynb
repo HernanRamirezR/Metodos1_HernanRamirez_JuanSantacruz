{
 "cells": [
  {
   "cell_type": "code",
   "execution_count": 55,
   "metadata": {},
   "outputs": [],
   "source": [
    "import numpy as np\n",
    "import sympy as sym\n",
    "import math as mt\n"
   ]
  },
  {
   "cell_type": "code",
   "execution_count": 56,
   "metadata": {},
   "outputs": [],
   "source": [
    "def Polinomio_Hermite(n):\n",
    "    x = sym.Symbol(\"x\",Real=True)\n",
    "    f = np.e**(-1*(x**2))\n",
    "    n_derivada = sym.diff(f,x,n)\n",
    "    pre_raiz = (-1)**n*np.e**(x**2)\n",
    "    polinomio = n_derivada*pre_raiz\n",
    "    polinomio = sym.lambdify([x],polinomio,'numpy')\n",
    "    \n",
    "    return polinomio\n",
    "\n",
    "\n"
   ]
  },
  {
   "cell_type": "code",
   "execution_count": 57,
   "metadata": {},
   "outputs": [],
   "source": [
    "def WHermite(n):\n",
    "    he = Polinomio_Hermite(n)\n",
    "    w = (2**(n-1))*mt.factorial(n)*np.sqrt(np.pi)/((n**2)*(he(n-1)**2))\n",
    "    return w\n"
   ]
  },
  {
   "cell_type": "code",
   "execution_count": 58,
   "metadata": {},
   "outputs": [],
   "source": [
    "\n",
    "def Derivative(poly,d,h=1e-4):\n",
    "    return (poly(d+h)-poly(d-h))/(2*h)\n",
    "\n",
    "def GetNewtonRaphson(poly,df,xn,itmax = 100, precision=1e-5):\n",
    "    \n",
    "    error = 1\n",
    "    it = 0\n",
    "    \n",
    "    while error > precision and it <= itmax:\n",
    "        \n",
    "        try:\n",
    "            \n",
    "            xn1 = xn - poly(xn)/df(poly,xn)\n",
    "            \n",
    "            error = np.abs(poly(xn)/df(poly,xn))\n",
    "            \n",
    "            #print(error)\n",
    "            \n",
    "        except ZeroDivisionError:\n",
    "            \n",
    "            print('Division por cero')\n",
    "            \n",
    "        it += 1\n",
    "        xn = xn1\n",
    "    \n",
    "    if it == itmax:\n",
    "        False\n",
    "    else:\n",
    "        return xn\n",
    "    \n",
    "def GetAllRoots(x,tolerancia=8):\n",
    "    \n",
    "    Roots = np.array([])\n",
    "    Function = Polinomio_Hermite(20)\n",
    "    for i in x:\n",
    "        \n",
    "        root = GetNewtonRaphson(Function,Derivative,i)\n",
    "        \n",
    "        if root != False:\n",
    "            \n",
    "            croot = np.round(root, tolerancia)\n",
    "            \n",
    "            if croot not in Roots:\n",
    "                Roots = np.append(Roots,croot)\n",
    "                \n",
    "    Roots.sort()\n",
    "        "
   ]
  },
  {
   "cell_type": "code",
   "execution_count": 59,
   "metadata": {},
   "outputs": [
    {
     "name": "stdout",
     "output_type": "stream",
     "text": [
      "<function _lambdifygenerated at 0x00000124A3090D30>\n",
      "[2.22939365e-13 4.39934099e-10 1.08606937e-07 7.80255648e-06\n",
      " 2.28338636e-04 3.24377334e-03 2.48105209e-02 1.09017206e-01\n",
      " 2.86675505e-01 4.62243670e-01 4.62243670e-01 2.86675505e-01\n",
      " 1.09017206e-01 2.48105209e-02 3.24377334e-03 2.28338636e-04\n",
      " 7.80255648e-06 1.08606937e-07 4.39934099e-10 2.22939365e-13]\n",
      "None\n"
     ]
    }
   ],
   "source": [
    "n = 20\n",
    "Pesos,Raices = np.polynomial.hermite.hermgauss(n)\n",
    "pesos = np.zeros(20)\n",
    "poly = Polinomio_Hermite(20)\n",
    "print(poly)\n",
    "w = np.linspace(-1,1,100)\n",
    "lista = []\n",
    "\n",
    "\n",
    "raices = GetAllRoots(w)\n",
    "\"\"\"\"\n",
    "for i in range(1,21):\n",
    "    a = WHermite(i)\n",
    "    pesos[i-1] = a\n",
    "    \"\"\"\n",
    "    \n",
    "    \n",
    "#print(Pesos)\n",
    "print(Raices)\n",
    "print(raices)\n",
    "#print(pesos)"
   ]
  },
  {
   "cell_type": "code",
   "execution_count": 60,
   "metadata": {},
   "outputs": [
    {
     "data": {
      "text/plain": [
       "2.636160280544895e-20"
      ]
     },
     "execution_count": 60,
     "metadata": {},
     "output_type": "execute_result"
    }
   ],
   "source": [
    "\n",
    "f = lambda x:  (1/np.sqrt(2))*((1/np.pi)**(1/4))*(np.e**((-x**2)/2))*(2*x)**2*(x**2)\n",
    "\n",
    "\n",
    "\n",
    "a = -1\n",
    "b = 1\n",
    "t = 0.5*((b-a)*Raices + a + b)\n",
    "x_1 = np.sum( Pesos*f(t))\n",
    "x_1\n"
   ]
  }
 ],
 "metadata": {
  "kernelspec": {
   "display_name": "Python 3",
   "language": "python",
   "name": "python3"
  },
  "language_info": {
   "codemirror_mode": {
    "name": "ipython",
    "version": 3
   },
   "file_extension": ".py",
   "mimetype": "text/x-python",
   "name": "python",
   "nbconvert_exporter": "python",
   "pygments_lexer": "ipython3",
   "version": "3.10.10"
  },
  "orig_nbformat": 4
 },
 "nbformat": 4,
 "nbformat_minor": 2
}
