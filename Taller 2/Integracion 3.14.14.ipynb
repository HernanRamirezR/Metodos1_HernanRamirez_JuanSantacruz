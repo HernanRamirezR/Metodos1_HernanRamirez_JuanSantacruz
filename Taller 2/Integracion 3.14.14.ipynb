{
 "cells": [
  {
   "cell_type": "code",
   "execution_count": 2,
   "metadata": {},
   "outputs": [],
   "source": [
    "import numpy as np\n",
    "import sympy as sym\n"
   ]
  },
  {
   "cell_type": "code",
   "execution_count": 5,
   "metadata": {},
   "outputs": [],
   "source": [
    "coeficientes_polinomio = np.array([3,5,1])\n",
    "base = np.array([[1,0,-0.5],[0,1,0],[0,0,1.5]])"
   ]
  },
  {
   "cell_type": "code",
   "execution_count": 7,
   "metadata": {},
   "outputs": [],
   "source": [
    "coeficientes_en_nueva_base = np.linalg.solve(base,coeficientes_polinomio)\n"
   ]
  },
  {
   "cell_type": "code",
   "execution_count": 8,
   "metadata": {},
   "outputs": [
    {
     "data": {
      "text/latex": [
       "$\\displaystyle 0.666666666666667 P^{2} + 5.0 P + 3.33333333333333$"
      ],
      "text/plain": [
       "0.666666666666667*P**2 + 5.0*P + 3.33333333333333"
      ]
     },
     "execution_count": 8,
     "metadata": {},
     "output_type": "execute_result"
    }
   ],
   "source": [
    "p = sym.Symbol(\"P\")\n",
    "polinomio = lambda x : coeficientes_en_nueva_base[0] + coeficientes_en_nueva_base[1]*x + coeficientes_en_nueva_base[2]*x**2\n",
    "polinomio(p)\n"
   ]
  }
 ],
 "metadata": {
  "kernelspec": {
   "display_name": "Python 3",
   "language": "python",
   "name": "python3"
  },
  "language_info": {
   "codemirror_mode": {
    "name": "ipython",
    "version": 3
   },
   "file_extension": ".py",
   "mimetype": "text/x-python",
   "name": "python",
   "nbconvert_exporter": "python",
   "pygments_lexer": "ipython3",
   "version": "3.10.10"
  },
  "orig_nbformat": 4
 },
 "nbformat": 4,
 "nbformat_minor": 2
}
