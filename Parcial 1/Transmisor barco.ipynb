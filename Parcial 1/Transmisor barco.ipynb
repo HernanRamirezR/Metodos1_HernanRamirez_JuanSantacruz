{
 "cells": [
  {
   "cell_type": "code",
   "execution_count": 1,
   "id": "aa0a8282",
   "metadata": {},
   "outputs": [],
   "source": [
    "import numpy as np\n",
    "import matplotlib.pyplot as plt\n",
    "from matplotlib import rc"
   ]
  },
  {
   "cell_type": "code",
   "execution_count": 5,
   "id": "35e56008",
   "metadata": {},
   "outputs": [],
   "source": [
    "def Function(x):\n",
    "    T = np.array((-3,2))\n",
    "    R = np.array((2,-2))\n",
    "    n0 = 1.\n",
    "    n1 = 1.33\n",
    "    \n",
    "    return (n0*(np.sqrt((x-(T[0]))**2 + T[1]**2) +  n1*(np.sqrt((x-(R[0]))**2 + R[1]**2))))"
   ]
  },
  {
   "cell_type": "code",
   "execution_count": 10,
   "id": "4598ebe6",
   "metadata": {},
   "outputs": [],
   "source": [
    "b = np.linspace(-3,2,100)\n",
    "y = Function(b)"
   ]
  },
  {
   "cell_type": "code",
   "execution_count": 11,
   "id": "37f09ba7",
   "metadata": {},
   "outputs": [
    {
     "data": {
      "text/plain": [
       "[<matplotlib.lines.Line2D at 0x271f06ed990>]"
      ]
     },
     "execution_count": 11,
     "metadata": {},
     "output_type": "execute_result"
    },
    {
     "data": {
      "image/png": "[encoded data removed]",
      "text/plain": [
       "<Figure size 640x480 with 1 Axes>"
      ]
     },
     "metadata": {},
     "output_type": "display_data"
    }
   ],
   "source": [
    "plt.plot(b,y)"
   ]
  },
  {
   "cell_type": "markdown",
   "id": "0e2575a3",
   "metadata": {},
   "source": [
    "De forma aproximada la raiz debe estar en aprocimadamente 0.3"
   ]
  },
  {
   "cell_type": "code",
   "execution_count": 12,
   "id": "94874249",
   "metadata": {},
   "outputs": [],
   "source": [
    "def Derivative(f,x,h=1e-5):\n",
    "    return (f(x+h)-f(x-h))/(2*h)"
   ]
  },
  {
   "cell_type": "code",
   "execution_count": 41,
   "id": "049e62c6",
   "metadata": {},
   "outputs": [],
   "source": [
    "def SecDerivative(f,x,h=1e-5):\n",
    "    return (f(x+h)+f(x-h)-2*f(x))/h**2"
   ]
  },
  {
   "cell_type": "code",
   "execution_count": 45,
   "id": "c348141a",
   "metadata": {},
   "outputs": [],
   "source": [
    "def GetNewtonRaphson(f,df,xn,itmax = 100, precision=1e-6):\n",
    "    \n",
    "    error = 1\n",
    "    it = 0\n",
    "    \n",
    "    while error > precision and it <= itmax:\n",
    "        \n",
    "        try:\n",
    "            punto = Derivative(Function,xn)\n",
    "            xn1 = xn - punto/df(f,xn)\n",
    "            \n",
    "            error = np.abs(f(xn)/df(f,xn))\n",
    "            \n",
    "        except ZeroDivisionError:\n",
    "            \n",
    "            print('Division por cero')\n",
    "            \n",
    "        it += 1\n",
    "        xn = xn1\n",
    "    \n",
    "    if it == itmax:\n",
    "        False\n",
    "    else:\n",
    "        return xn"
   ]
  },
  {
   "cell_type": "code",
   "execution_count": 46,
   "id": "eadcddc4",
   "metadata": {},
   "outputs": [
    {
     "name": "stdout",
     "output_type": "stream",
     "text": [
      "0.31690575640285973\n"
     ]
    }
   ],
   "source": [
    "Derivative\n",
    "x = GetNewtonRaphson(Function,SecDerivative,0)\n",
    "print(x)"
   ]
  },
  {
   "cell_type": "code",
   "execution_count": 101,
   "id": "9238833f",
   "metadata": {},
   "outputs": [],
   "source": [
    "def GetAngle(v1,v2):\n",
    "    a = (v1[0]*v2[0]+v1[1]*v2[1])/np.sqrt(v1[0]**2+v1[1]**2)*np.sqrt(v2[0]**2+v2[1]**2)\n",
    "    Angle = np.arccos(a)\n",
    "    angle = Angle\n",
    "    return angle"
   ]
  },
  {
   "cell_type": "code",
   "execution_count": 102,
   "id": "0633d165",
   "metadata": {},
   "outputs": [
    {
     "name": "stdout",
     "output_type": "stream",
     "text": [
      "0.9302405609350641\n",
      "0.6995662174530131\n"
     ]
    }
   ],
   "source": [
    "T = np.array((-3,2))\n",
    "R = np.array((2,-2))\n",
    "v1 = np.array((-3+x,2))\n",
    "v2 = np.array((0,1))\n",
    "v3 = np.array((2-x,-2))\n",
    "v4 = np.array((0,-1))\n",
    "\n",
    "Angle0 = GetAngle(v1,v2)\n",
    "Angle1 = GetAngle(v3,v4)\n",
    "print(Angle0)\n",
    "print(Angle1)"
   ]
  },
  {
   "cell_type": "code",
   "execution_count": 103,
   "id": "a8628072",
   "metadata": {
    "scrolled": true
   },
   "outputs": [
    {
     "name": "stdout",
     "output_type": "stream",
     "text": [
      "0.7518796992481203\n",
      "0.7520415683863069\n"
     ]
    }
   ],
   "source": [
    "n0 = 1.\n",
    "n1 = 1.33\n",
    "\n",
    "a = n0/n1  \n",
    "b = np.sin(Angle1*np.pi/180)/np.sin(Angle0*np.pi/180)\n",
    "print(a)\n",
    "print(b)"
   ]
  },
  {
   "cell_type": "markdown",
   "id": "fe954d3c",
   "metadata": {},
   "source": [
    "Se puede ver que la ley de Snell se cumple de forma aproximada y el error se asocia con los calculos de las derivadas y el calculo de las raices mediante Newton Raphson. "
   ]
  },
  {
   "cell_type": "code",
   "execution_count": null,
   "id": "880c8fd2",
   "metadata": {},
   "outputs": [],
   "source": []
  }
 ],
 "metadata": {
  "kernelspec": {
   "display_name": "Python 3 (ipykernel)",
   "language": "python",
   "name": "python3"
  },
  "language_info": {
   "codemirror_mode": {
    "name": "ipython",
    "version": 3
   },
   "file_extension": ".py",
   "mimetype": "text/x-python",
   "name": "python",
   "nbconvert_exporter": "python",
   "pygments_lexer": "ipython3",
   "version": "3.10.6"
  }
 },
 "nbformat": 4,
 "nbformat_minor": 5
}
