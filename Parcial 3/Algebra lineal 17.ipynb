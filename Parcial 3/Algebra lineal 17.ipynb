{
 "cells": [
  {
   "cell_type": "code",
   "execution_count": 1,
   "id": "b1d557c8",
   "metadata": {},
   "outputs": [],
   "source": [
    "import numpy as np\n",
    "import sympy as sym\n",
    "from sympy import Function, Symbol\n",
    "from sympy import Eq\n",
    "import matplotlib.pyplot as plt\n",
    "from matplotlib import rc"
   ]
  },
  {
   "cell_type": "code",
   "execution_count": 2,
   "id": "2d0296df",
   "metadata": {},
   "outputs": [
    {
     "data": {
      "text/latex": [
       "$\\displaystyle x + i y$"
      ],
      "text/plain": [
       "x + I*y"
      ]
     },
     "execution_count": 2,
     "metadata": {},
     "output_type": "execute_result"
    }
   ],
   "source": [
    "x = sym.Symbol('x', real=True) \n",
    "y = sym.Symbol('y', real=True)\n",
    "z = x + sym.I*y\n",
    "z"
   ]
  },
  {
   "cell_type": "code",
   "execution_count": 3,
   "id": "7e5643c3",
   "metadata": {},
   "outputs": [
    {
     "data": {
      "text/latex": [
       "$\\displaystyle \\left(x + i y\\right)^{3} - 1$"
      ],
      "text/plain": [
       "(x + I*y)**3 - 1"
      ]
     },
     "execution_count": 3,
     "metadata": {},
     "output_type": "execute_result"
    }
   ],
   "source": [
    "F = z**3-1\n",
    "F"
   ]
  },
  {
   "cell_type": "code",
   "execution_count": 4,
   "id": "15e1bc1a",
   "metadata": {},
   "outputs": [
    {
     "data": {
      "text/plain": [
       "array([ 1.        -2.00000000e+00j,  0.88122012-1.88122012e+00j,\n",
       "        0.76723876-1.76723876e+00j,  0.65795698-1.65795698e+00j,\n",
       "        0.55327585-1.55327585e+00j,  0.45309642-1.45309642e+00j,\n",
       "        0.35731975-1.35731975e+00j,  0.26584692-1.26584692e+00j,\n",
       "        0.17857897-1.17857897e+00j,  0.09541698-1.09541698e+00j,\n",
       "        0.016262  -1.01626200e+00j, -0.05898491-9.41015089e-01j,\n",
       "       -0.13042268-8.69577316e-01j, -0.19815026-8.01849739e-01j,\n",
       "       -0.26226658-7.37733420e-01j, -0.32287058-6.77129421e-01j,\n",
       "       -0.3800612 -6.19938802e-01j, -0.43393737-5.66062626e-01j,\n",
       "       -0.48459805-5.15401953e-01j, -0.53214215-4.67857846e-01j,\n",
       "       -0.57666864-4.23331365e-01j, -0.61827643-3.81723572e-01j,\n",
       "       -0.65706447-3.42935528e-01j, -0.6931317 -3.06868295e-01j,\n",
       "       -0.72657707-2.73422935e-01j, -0.75749949-2.42500508e-01j,\n",
       "       -0.78599792-2.14002076e-01j, -0.8121713 -1.87828700e-01j,\n",
       "       -0.83611856-1.63881443e-01j, -0.85793864-1.42061365e-01j,\n",
       "       -0.87773047-1.22269527e-01j, -0.89559301-1.04406992e-01j,\n",
       "       -0.91162518-8.83748205e-02j, -0.92592593-7.40740741e-02j,\n",
       "       -0.93859419-6.14058141e-02j, -0.9497289 -5.02711020e-02j,\n",
       "       -0.959429  -4.05709992e-02j, -0.96779343-3.22065673e-02j,\n",
       "       -0.97492113-2.50788674e-02j, -0.98091104-1.90889612e-02j,\n",
       "       -0.98586209-1.41379101e-02j, -0.98987322-1.01267754e-02j,\n",
       "       -0.99304338-6.95661853e-03j, -0.9954715 -4.52850101e-03j,\n",
       "       -0.99725652-2.74348422e-03j, -0.99849737-1.50262960e-03j,\n",
       "       -0.999293  -7.06998564e-04j, -0.99974235-2.57652538e-04j,\n",
       "       -0.99994435-5.56529482e-05j, -0.99999794-2.06122030e-06j,\n",
       "       -1.00000206+2.06122030e-06j, -1.00005565+5.56529482e-05j,\n",
       "       -1.00025765+2.57652538e-04j, -1.000707  +7.06998564e-04j,\n",
       "       -1.00150263+1.50262960e-03j, -1.00274348+2.74348422e-03j,\n",
       "       -1.0045285 +4.52850101e-03j, -1.00695662+6.95661853e-03j,\n",
       "       -1.01012678+1.01267754e-02j, -1.01413791+1.41379101e-02j,\n",
       "       -1.01908896+1.90889612e-02j, -1.02507887+2.50788674e-02j,\n",
       "       -1.03220657+3.22065673e-02j, -1.040571  +4.05709992e-02j,\n",
       "       -1.0502711 +5.02711020e-02j, -1.06140581+6.14058141e-02j,\n",
       "       -1.07407407+7.40740741e-02j, -1.08837482+8.83748205e-02j,\n",
       "       -1.10440699+1.04406992e-01j, -1.12226953+1.22269527e-01j,\n",
       "       -1.14206136+1.42061365e-01j, -1.16388144+1.63881443e-01j,\n",
       "       -1.1878287 +1.87828700e-01j, -1.21400208+2.14002076e-01j,\n",
       "       -1.24250051+2.42500508e-01j, -1.27342293+2.73422935e-01j,\n",
       "       -1.3068683 +3.06868295e-01j, -1.34293553+3.42935528e-01j,\n",
       "       -1.38172357+3.81723572e-01j, -1.42333136+4.23331365e-01j,\n",
       "       -1.46785785+4.67857846e-01j, -1.51540195+5.15401953e-01j,\n",
       "       -1.56606263+5.66062626e-01j, -1.6199388 +6.19938802e-01j,\n",
       "       -1.67712942+6.77129421e-01j, -1.73773342+7.37733420e-01j,\n",
       "       -1.80184974+8.01849739e-01j, -1.86957732+8.69577316e-01j,\n",
       "       -1.94101509+9.41015089e-01j, -2.016262  +1.01626200e+00j,\n",
       "       -2.09541698+1.09541698e+00j, -2.17857897+1.17857897e+00j,\n",
       "       -2.26584692+1.26584692e+00j, -2.35731975+1.35731975e+00j,\n",
       "       -2.45309642+1.45309642e+00j, -2.55327585+1.55327585e+00j,\n",
       "       -2.65795698+1.65795698e+00j, -2.76723876+1.76723876e+00j,\n",
       "       -2.88122012+1.88122012e+00j, -3.        +2.00000000e+00j])"
      ]
     },
     "execution_count": 4,
     "metadata": {},
     "output_type": "execute_result"
    }
   ],
   "source": [
    "a = np.linspace(-1,1,100)\n",
    "b = np.linspace(-1,1,100)\n",
    "f = sym.lambdify([x, y], F, \"numpy\") \n",
    "Feval = f(a,b)\n",
    "Feval"
   ]
  },
  {
   "cell_type": "code",
   "execution_count": 5,
   "id": "b9cdbc7f",
   "metadata": {},
   "outputs": [
    {
     "data": {
      "text/plain": [
       "array([[(1.00000000000000, -2.00000000000000),\n",
       "        (0.881220118746902, -1.88122011874690),\n",
       "        (0.767238758362113, -1.76723875836211),\n",
       "        (0.657956980271030, -1.65795698027103),\n",
       "        (0.553275845899048, -1.55327584589905),\n",
       "        (0.453096416671562, -1.45309641667156),\n",
       "        (0.357319754013969, -1.35731975401397),\n",
       "        (0.265846919351663, -1.26584691935166),\n",
       "        (0.178578974110042, -1.17857897411004),\n",
       "        (0.0954169797145001, -1.09541697971450),\n",
       "        (0.0162619975904335, -1.01626199759043),\n",
       "        (-0.0589849108367626, -0.941015089163237),\n",
       "        (-0.130422684141692, -0.869577315858308),\n",
       "        (-0.198150260898960, -0.801849739101040),\n",
       "        (-0.262266579683170, -0.737733420316830),\n",
       "        (-0.322870579068926, -0.677129420931074),\n",
       "        (-0.380061197630834, -0.619938802369166),\n",
       "        (-0.433937373943496, -0.566062626056504),\n",
       "        (-0.484598046581518, -0.515401953418482),\n",
       "        (-0.532142154119503, -0.467857845880497),\n",
       "        (-0.576668635132057, -0.423331364867943),\n",
       "        (-0.618276428193784, -0.381723571806216),\n",
       "        (-0.657064471879287, -0.342935528120713),\n",
       "        (-0.693131704763171, -0.306868295236829),\n",
       "        (-0.726577065420041, -0.273422934579959),\n",
       "        (-0.757499492424500, -0.242500507575500),\n",
       "        (-0.785997924351154, -0.214002075648846),\n",
       "        (-0.812171299774606, -0.187828700225394),\n",
       "        (-0.836118557269460, -0.163881442730540),\n",
       "        (-0.857938635410322, -0.142061364589678),\n",
       "        (-0.877730472771795, -0.122269527228205),\n",
       "        (-0.895593007928484, -0.104406992071516),\n",
       "        (-0.911625179454993, -0.0883748205450072),\n",
       "        (-0.925925925925926, -0.0740740740740740),\n",
       "        (-0.938594185915888, -0.0614058140841122),\n",
       "        (-0.949728897999483, -0.0502711020005173),\n",
       "        (-0.959429000751315, -0.0405709992486852),\n",
       "        (-0.967793432745989, -0.0322065672540114),\n",
       "        (-0.974921132558108, -0.0250788674418916),\n",
       "        (-0.980911038762278, -0.0190889612377215),\n",
       "        (-0.985862089933103, -0.0141379100668969),\n",
       "        (-0.989873224645187, -0.0101267753548133),\n",
       "        (-0.993043381473134, -0.00695661852686646),\n",
       "        (-0.995471498991548, -0.00452850100845203),\n",
       "        (-0.997256515775034, -0.00274348422496570),\n",
       "        (-0.998497370398197, -0.00150262960180315),\n",
       "        (-0.999293001435640, -0.000706998564360055),\n",
       "        (-0.999742347461968, -0.000257652538032089),\n",
       "        (-0.999944347051785, -5.56529482149315e-5),\n",
       "        (-0.999997938779696, -2.06122030425670e-6),\n",
       "        (-1.00000206122030, 2.06122030425677e-6),\n",
       "        (-1.00005565294821, 5.56529482149328e-5),\n",
       "        (-1.00025765253803, 0.000257652538032093),\n",
       "        (-1.00070699856436, 0.000706998564360058),\n",
       "        (-1.00150262960180, 0.00150262960180316),\n",
       "        (-1.00274348422497, 0.00274348422496571),\n",
       "        (-1.00452850100845, 0.00452850100845205),\n",
       "        (-1.00695661852687, 0.00695661852686647),\n",
       "        (-1.01012677535481, 0.0101267753548133),\n",
       "        (-1.01413791006690, 0.0141379100668969),\n",
       "        (-1.01908896123772, 0.0190889612377216),\n",
       "        (-1.02507886744189, 0.0250788674418917),\n",
       "        (-1.03220656725401, 0.0322065672540114),\n",
       "        (-1.04057099924869, 0.0405709992486853),\n",
       "        (-1.05027110200052, 0.0502711020005174),\n",
       "        (-1.06140581408411, 0.0614058140841122),\n",
       "        (-1.07407407407407, 0.0740740740740742),\n",
       "        (-1.08837482054501, 0.0883748205450073),\n",
       "        (-1.10440699207152, 0.104406992071516),\n",
       "        (-1.12226952722821, 0.122269527228205),\n",
       "        (-1.14206136458968, 0.142061364589678),\n",
       "        (-1.16388144273054, 0.163881442730540),\n",
       "        (-1.18782870022539, 0.187828700225394),\n",
       "        (-1.21400207564885, 0.214002075648847),\n",
       "        (-1.24250050757550, 0.242500507575500),\n",
       "        (-1.27342293457996, 0.273422934579960),\n",
       "        (-1.30686829523683, 0.306868295236829),\n",
       "        (-1.34293552812071, 0.342935528120713),\n",
       "        (-1.38172357180622, 0.381723571806217),\n",
       "        (-1.42333136486794, 0.423331364867943),\n",
       "        (-1.46785784588050, 0.467857845880497),\n",
       "        (-1.51540195341848, 0.515401953418483),\n",
       "        (-1.56606262605650, 0.566062626056505),\n",
       "        (-1.61993880236917, 0.619938802369167),\n",
       "        (-1.67712942093107, 0.677129420931074),\n",
       "        (-1.73773342031683, 0.737733420316831),\n",
       "        (-1.80184973910104, 0.801849739101040),\n",
       "        (-1.86957731585831, 0.869577315858308),\n",
       "        (-1.94101508916324, 0.941015089163238),\n",
       "        (-2.01626199759043, 1.01626199759043),\n",
       "        (-2.09541697971450, 1.09541697971450),\n",
       "        (-2.17857897411004, 1.17857897411004),\n",
       "        (-2.26584691935166, 1.26584691935166),\n",
       "        (-2.35731975401397, 1.35731975401397),\n",
       "        (-2.45309641667156, 1.45309641667156),\n",
       "        (-2.55327584589905, 1.55327584589905),\n",
       "        (-2.65795698027103, 1.65795698027103),\n",
       "        (-2.76723875836211, 1.76723875836211),\n",
       "        (-2.88122011874690, 1.88122011874690),\n",
       "        (-3.00000000000000, 2.00000000000000)]], dtype=object)"
      ]
     },
     "execution_count": 5,
     "metadata": {},
     "output_type": "execute_result"
    }
   ],
   "source": [
    "Flist = np.zeros((1,len(Feval)), dtype = list)\n",
    "\n",
    "for num in range(len(Feval)):\n",
    "    Flist[0,num] =  (sym.re(Feval[num]),sym.im(Feval[num]))\n",
    "Flist"
   ]
  },
  {
   "cell_type": "code",
   "execution_count": 6,
   "id": "598deb34",
   "metadata": {},
   "outputs": [
    {
     "name": "stdout",
     "output_type": "stream",
     "text": [
      "El jacobiano de f(z) es:\n"
     ]
    },
    {
     "data": {
      "text/latex": [
       "$\\displaystyle \\left[\\begin{matrix}3 x^{2} - 3 y^{2} & - 6 x y\\\\6 x y & 3 x^{2} - 3 y^{2}\\end{matrix}\\right]$"
      ],
      "text/plain": [
       "Matrix([\n",
       "[3*x**2 - 3*y**2,          -6*x*y],\n",
       "[          6*x*y, 3*x**2 - 3*y**2]])"
      ]
     },
     "execution_count": 6,
     "metadata": {},
     "output_type": "execute_result"
    }
   ],
   "source": [
    "# Calcular las partes real e imaginaria\n",
    "u = sym.re(F)\n",
    "v = sym.im(F)\n",
    "\n",
    "# Calcular las derivadas parciales\n",
    "du_dx = sym.diff(u, sym.re(z))\n",
    "du_dy = sym.diff(u, sym.im(z))\n",
    "dv_dx = sym.diff(v, sym.re(z))\n",
    "dv_dy = sym.diff(v, sym.im(z))\n",
    "\n",
    "# Crear la matriz jacobiana\n",
    "jacobian = sym.Matrix([[du_dx, du_dy], [dv_dx, dv_dy]])\n",
    "\n",
    "# Imprimir la matriz jacobiana\n",
    "print(\"El jacobiano de f(z) es:\")\n",
    "jacobian"
   ]
  },
  {
   "cell_type": "code",
   "execution_count": 7,
   "id": "9fdd841a",
   "metadata": {},
   "outputs": [
    {
     "name": "stdout",
     "output_type": "stream",
     "text": [
      "[[ 0.  -1.5]\n",
      " [ 1.5  0. ]]\n",
      "[[ 0.          0.66666667]\n",
      " [-0.66666667 -0.        ]]\n"
     ]
    }
   ],
   "source": [
    "jacobian_np = sym.lambdify((x, y), jacobian, )\n",
    "z = [0.5,0.5]\n",
    "\n",
    "J1 = jacobian_np(z[0], z[1])\n",
    "J2 = np.linalg.inv(J1)\n",
    "print(J1)\n",
    "print(J2)\n"
   ]
  },
  {
   "cell_type": "code",
   "execution_count": 38,
   "id": "af191f3e",
   "metadata": {},
   "outputs": [],
   "source": [
    "def NewtonRaphsonGen(z0, stop_err = 1e-7):\n",
    "    z = z0.copy()\n",
    "    trayectory = []\n",
    "    err = np.inf\n",
    "    i = 0\n",
    "    while (err > stop_err):\n",
    "        zn_1= z.copy()\n",
    "        \n",
    "        jacobian_evaluated = np.array(jacobian_np(z[0], z[1]), dtype=np.float64)\n",
    "\n",
    "        J =np.linalg.inv(jacobian_evaluated)  \n",
    "        Feval = f(z[0],z[1])\n",
    "        z = z-np.dot(J, (sym.re(Feval), sym.im(Feval)))\n",
    "        vec = np.array((z-zn_1),dtype=np.float64)\n",
    "        err = np.linalg.norm(vec)\n",
    "        i+=1\n",
    "    return z"
   ]
  },
  {
   "cell_type": "code",
   "execution_count": 40,
   "id": "2feb0abc",
   "metadata": {},
   "outputs": [
    {
     "name": "stdout",
     "output_type": "stream",
     "text": [
      "[-0.499999999999999 0.866025403784438]\n"
     ]
    }
   ],
   "source": [
    "z0 = [0.5,0.5]\n",
    "NGR = NewtonRaphsonGen(z0)\n",
    "print(NGR)"
   ]
  },
  {
   "cell_type": "code",
   "execution_count": 51,
   "id": "b96483a7",
   "metadata": {},
   "outputs": [],
   "source": [
    "N = 30\n",
    "x_ = np.linspace(-1,1,N)\n",
    "y_ = np.linspace(-1,1,N)"
   ]
  },
  {
   "cell_type": "code",
   "execution_count": 52,
   "id": "df632d28",
   "metadata": {},
   "outputs": [],
   "source": [
    "Fractal = np.zeros((N,N),np.int64)"
   ]
  },
  {
   "cell_type": "code",
   "execution_count": 53,
   "id": "ceb0f1be",
   "metadata": {},
   "outputs": [],
   "source": [
    "error = 1e-7\n",
    "for i in range(0, len(x_)):\n",
    "    for j in range (len(y_)):\n",
    "        \n",
    "        if x_[i] == 0 and y_[j] == 0:\n",
    "            continue\n",
    "        \n",
    "        z0 = [x_[i],y_[j]]\n",
    "        V = NewtonRaphsonGen(z0)\n",
    "        \n",
    "        if abs(V[0]-(-1/2)) < error and abs(V[1]-(np.sqrt(3)/2))< error:\n",
    "            Fractal[i][j] = 20\n",
    "            \n",
    "        elif abs(V[0]-(-1/2)) < error and abs(V[1]-(-np.sqrt(3)/2))< error:\n",
    "            Fractal[i][j] = 100\n",
    "            \n",
    "        elif abs(V[0]-1) < error and abs(V[1]-0)< error:\n",
    "            Fractal[i][j] = 255"
   ]
  },
  {
   "cell_type": "code",
   "execution_count": 54,
   "id": "5fdf7387",
   "metadata": {},
   "outputs": [
    {
     "data": {
      "text/plain": [
       "<matplotlib.image.AxesImage at 0x297cf94f970>"
      ]
     },
     "execution_count": 54,
     "metadata": {},
     "output_type": "execute_result"
    },
    {
     "data": {
      "image/png": "[encoded data removed]",
      "text/plain": [
       "<Figure size 640x480 with 1 Axes>"
      ]
     },
     "metadata": {},
     "output_type": "display_data"
    }
   ],
   "source": [
    "plt.imshow(Fractal,cmap='coolwarm',extent=[-1,1,-1,1])"
   ]
  },
  {
   "cell_type": "code",
   "execution_count": null,
   "id": "3dddc28b",
   "metadata": {},
   "outputs": [],
   "source": []
  }
 ],
 "metadata": {
  "kernelspec": {
   "display_name": "Python 3 (ipykernel)",
   "language": "python",
   "name": "python3"
  },
  "language_info": {
   "codemirror_mode": {
    "name": "ipython",
    "version": 3
   },
   "file_extension": ".py",
   "mimetype": "text/x-python",
   "name": "python",
   "nbconvert_exporter": "python",
   "pygments_lexer": "ipython3",
   "version": "3.10.6"
  }
 },
 "nbformat": 4,
 "nbformat_minor": 5
}
