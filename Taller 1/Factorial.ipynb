{
 "cells": [
  {
   "cell_type": "code",
   "execution_count": 23,
   "metadata": {},
   "outputs": [],
   "source": [
    "import numpy as np"
   ]
  },
  {
   "cell_type": "code",
   "execution_count": 60,
   "metadata": {},
   "outputs": [],
   "source": [
    "#Punto 2.01\n",
    "def Factorial(x:int):\n",
    "    if x ==0:\n",
    "        return  1\n",
    "    else: \n",
    "        return  x * Factorial(x-1)\n",
    "\n",
    "\n",
    "def Factoriales(nums):\n",
    "\n",
    "    Result = np.empty(0)\n",
    "    for x in nums: \n",
    "        x = int(x)\n",
    "        factorial = Factorial(x)\n",
    "        Result = np.append(Result, factorial)\n",
    "    return Result"
   ]
  },
  {
   "cell_type": "code",
   "execution_count": 61,
   "metadata": {},
   "outputs": [
    {
     "data": {
      "text/plain": [
       "array([1.00000000e+00, 1.00000000e+00, 2.00000000e+00, 6.00000000e+00,\n",
       "       2.40000000e+01, 1.20000000e+02, 7.20000000e+02, 5.04000000e+03,\n",
       "       4.03200000e+04, 3.62880000e+05, 3.62880000e+06, 3.99168000e+07,\n",
       "       4.79001600e+08, 6.22702080e+09, 8.71782912e+10, 1.30767437e+12,\n",
       "       2.09227899e+13, 3.55687428e+14, 6.40237371e+15, 1.21645100e+17,\n",
       "       2.43290201e+18])"
      ]
     },
     "execution_count": 61,
     "metadata": {},
     "output_type": "execute_result"
    }
   ],
   "source": [
    "x = np.linspace(0,20,21)\n",
    "\n",
    "\n",
    "a = Factoriales(x)\n",
    "a\n"
   ]
  }
 ],
 "metadata": {
  "kernelspec": {
   "display_name": "Python 3",
   "language": "python",
   "name": "python3"
  },
  "language_info": {
   "codemirror_mode": {
    "name": "ipython",
    "version": 3
   },
   "file_extension": ".py",
   "mimetype": "text/x-python",
   "name": "python",
   "nbconvert_exporter": "python",
   "pygments_lexer": "ipython3",
   "version": "3.10.6"
  },
  "orig_nbformat": 4,
  "vscode": {
   "interpreter": {
    "hash": "59a9bf5b90716e214043ca8dc469f6e379079c184979dc6ddfbd8a422e9e6d9f"
   }
  }
 },
 "nbformat": 4,
 "nbformat_minor": 2
}
